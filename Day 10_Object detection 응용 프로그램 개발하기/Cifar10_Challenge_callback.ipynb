{
  "nbformat": 4,
  "nbformat_minor": 0,
  "metadata": {
    "colab": {
      "name": "Cifar10_Challenge_callback.ipynb",
      "provenance": [],
      "collapsed_sections": [],
      "include_colab_link": true
    },
    "kernelspec": {
      "name": "python3",
      "display_name": "Python 3"
    },
    "accelerator": "GPU"
  },
  "cells": [
    {
      "cell_type": "markdown",
      "metadata": {
        "id": "view-in-github",
        "colab_type": "text"
      },
      "source": [
        "<a href=\"https://colab.research.google.com/github/YoonSungLee/AI-Innovation-Square_Vision/blob/master/Day%2010_Object%20detection%20%EC%9D%91%EC%9A%A9%20%ED%94%84%EB%A1%9C%EA%B7%B8%EB%9E%A8%20%EA%B0%9C%EB%B0%9C%ED%95%98%EA%B8%B0/Cifar10_Challenge_callback.ipynb\" target=\"_parent\"><img src=\"https://colab.research.google.com/assets/colab-badge.svg\" alt=\"Open In Colab\"/></a>"
      ]
    },
    {
      "cell_type": "code",
      "metadata": {
        "id": "QHMtnYN4JbzR",
        "colab_type": "code",
        "outputId": "fb57d6ad-8952-44e2-c01a-2745271c700b",
        "colab": {
          "base_uri": "https://localhost:8080/",
          "height": 81
        }
      },
      "source": [
        "from __future__ import print_function\n",
        "import keras\n",
        "from keras.datasets import cifar10\n",
        "from keras.preprocessing.image import ImageDataGenerator\n",
        "from keras.models import Sequential\n",
        "from keras.layers import Dense, Dropout, Activation, Flatten\n",
        "from keras.layers import Conv2D, MaxPooling2D, GlobalAveragePooling2D, BatchNormalization\n",
        "\n",
        "import os"
      ],
      "execution_count": 0,
      "outputs": [
        {
          "output_type": "stream",
          "text": [
            "Using TensorFlow backend.\n"
          ],
          "name": "stderr"
        },
        {
          "output_type": "display_data",
          "data": {
            "text/html": [
              "<p style=\"color: red;\">\n",
              "The default version of TensorFlow in Colab will soon switch to TensorFlow 2.x.<br>\n",
              "We recommend you <a href=\"https://www.tensorflow.org/guide/migrate\" target=\"_blank\">upgrade</a> now \n",
              "or ensure your notebook will continue to use TensorFlow 1.x via the <code>%tensorflow_version 1.x</code> magic:\n",
              "<a href=\"https://colab.research.google.com/notebooks/tensorflow_version.ipynb\" target=\"_blank\">more info</a>.</p>\n"
            ],
            "text/plain": [
              "<IPython.core.display.HTML object>"
            ]
          },
          "metadata": {
            "tags": []
          }
        }
      ]
    },
    {
      "cell_type": "code",
      "metadata": {
        "id": "e32h2VgNnH60",
        "colab_type": "code",
        "outputId": "48701610-7be5-4220-d5e2-8ab21965c21b",
        "colab": {
          "base_uri": "https://localhost:8080/",
          "height": 124
        }
      },
      "source": [
        "from google.colab import auth\n",
        "auth.authenticate_user()\n",
        "\n",
        "from google.colab import drive\n",
        "drive.mount('/content/gdrive')"
      ],
      "execution_count": 0,
      "outputs": [
        {
          "output_type": "stream",
          "text": [
            "Go to this URL in a browser: https://accounts.google.com/o/oauth2/auth?client_id=947318989803-6bn6qk8qdgf4n4g3pfee6491hc0brc4i.apps.googleusercontent.com&redirect_uri=urn%3aietf%3awg%3aoauth%3a2.0%3aoob&response_type=code&scope=email%20https%3a%2f%2fwww.googleapis.com%2fauth%2fdocs.test%20https%3a%2f%2fwww.googleapis.com%2fauth%2fdrive%20https%3a%2f%2fwww.googleapis.com%2fauth%2fdrive.photos.readonly%20https%3a%2f%2fwww.googleapis.com%2fauth%2fpeopleapi.readonly\n",
            "\n",
            "Enter your authorization code:\n",
            "··········\n",
            "Mounted at /content/gdrive\n"
          ],
          "name": "stdout"
        }
      ]
    },
    {
      "cell_type": "code",
      "metadata": {
        "id": "pBn-DdtanM9D",
        "colab_type": "code",
        "outputId": "86be01a9-ed62-4f97-e04f-15b050935e9e",
        "colab": {
          "base_uri": "https://localhost:8080/",
          "height": 34
        }
      },
      "source": [
        "cd gdrive/My Drive/Colab Notebooks/models"
      ],
      "execution_count": 0,
      "outputs": [
        {
          "output_type": "stream",
          "text": [
            "/content/gdrive/My Drive/Colab Notebooks/models\n"
          ],
          "name": "stdout"
        }
      ]
    },
    {
      "cell_type": "code",
      "metadata": {
        "id": "xN76jTnaJku7",
        "colab_type": "code",
        "colab": {}
      },
      "source": [
        "batch_size = 16\n",
        "num_classes = 10\n",
        "epochs = 25"
      ],
      "execution_count": 0,
      "outputs": []
    },
    {
      "cell_type": "code",
      "metadata": {
        "id": "BuwjP0yeJlyu",
        "colab_type": "code",
        "outputId": "ff32cf86-5d5a-4fcb-8949-6a6c464e33c1",
        "colab": {
          "base_uri": "https://localhost:8080/",
          "height": 104
        }
      },
      "source": [
        "# CIFAR-10 : class 별 비율이 비슷한 모델\n",
        "# 실전에서는 class 별 비율이 중요하고 따라서 ImageDataGenerator를 이용하거나 많은 데이터가 필요하다\n",
        "\n",
        "# The data, split between train and test sets:\n",
        "(x_train, y_train), (x_test, y_test) = cifar10.load_data()\n",
        "print('x_train shape:', x_train.shape)\n",
        "print(x_train.shape[0], 'train samples')\n",
        "print(x_test.shape[0], 'test samples')"
      ],
      "execution_count": 0,
      "outputs": [
        {
          "output_type": "stream",
          "text": [
            "Downloading data from https://www.cs.toronto.edu/~kriz/cifar-10-python.tar.gz\n",
            "170500096/170498071 [==============================] - 4s 0us/step\n",
            "x_train shape: (50000, 32, 32, 3)\n",
            "50000 train samples\n",
            "10000 test samples\n"
          ],
          "name": "stdout"
        }
      ]
    },
    {
      "cell_type": "code",
      "metadata": {
        "id": "9pGz9Z4L6XfN",
        "colab_type": "code",
        "outputId": "663e6285-7a6e-46ac-b3f0-5e8ccd0b22f0",
        "colab": {
          "base_uri": "https://localhost:8080/",
          "height": 139
        }
      },
      "source": [
        "y_train"
      ],
      "execution_count": 0,
      "outputs": [
        {
          "output_type": "execute_result",
          "data": {
            "text/plain": [
              "array([[6],\n",
              "       [9],\n",
              "       [9],\n",
              "       ...,\n",
              "       [9],\n",
              "       [1],\n",
              "       [1]], dtype=uint8)"
            ]
          },
          "metadata": {
            "tags": []
          },
          "execution_count": 6
        }
      ]
    },
    {
      "cell_type": "code",
      "metadata": {
        "id": "ICtLv_uZJoXe",
        "colab_type": "code",
        "colab": {}
      },
      "source": [
        "y_train = keras.utils.to_categorical(y_train, num_classes) # One-hot Encoding\n",
        "y_test = keras.utils.to_categorical(y_test, num_classes) # One-hot Encoding"
      ],
      "execution_count": 0,
      "outputs": []
    },
    {
      "cell_type": "code",
      "metadata": {
        "id": "lfuWXdpN6nOr",
        "colab_type": "code",
        "outputId": "44f9dc52-9697-411b-f906-dd60c42c4a63",
        "colab": {
          "base_uri": "https://localhost:8080/",
          "height": 139
        }
      },
      "source": [
        "y_train"
      ],
      "execution_count": 0,
      "outputs": [
        {
          "output_type": "execute_result",
          "data": {
            "text/plain": [
              "array([[0., 0., 0., ..., 0., 0., 0.],\n",
              "       [0., 0., 0., ..., 0., 0., 1.],\n",
              "       [0., 0., 0., ..., 0., 0., 1.],\n",
              "       ...,\n",
              "       [0., 0., 0., ..., 0., 0., 1.],\n",
              "       [0., 1., 0., ..., 0., 0., 0.],\n",
              "       [0., 1., 0., ..., 0., 0., 0.]], dtype=float32)"
            ]
          },
          "metadata": {
            "tags": []
          },
          "execution_count": 8
        }
      ]
    },
    {
      "cell_type": "code",
      "metadata": {
        "id": "-rfn1qzqJ5dW",
        "colab_type": "code",
        "colab": {}
      },
      "source": [
        "x_train = x_train.astype('float32')\n",
        "x_test = x_test.astype('float32')\n",
        "x_train /= 255 # 정규화\n",
        "x_test /= 255 # 정규화"
      ],
      "execution_count": 0,
      "outputs": []
    },
    {
      "cell_type": "code",
      "metadata": {
        "id": "4f8DEhJ6oS1F",
        "colab_type": "code",
        "outputId": "ece0a2c1-bacb-4125-816f-f4e4596f11fb",
        "colab": {
          "base_uri": "https://localhost:8080/",
          "height": 34
        }
      },
      "source": [
        "print('Using real-time data augmentation.')\n",
        "    # This will do preprocessing and realtime data augmentation:\n",
        "datagen = ImageDataGenerator(\n",
        "    featurewise_center=False,  # set input mean to 0 over the dataset\n",
        "    samplewise_center=False,  # set each sample mean to 0\n",
        "    featurewise_std_normalization=False,  # divide inputs by std of the dataset\n",
        "    samplewise_std_normalization=False,  # divide each input by its std\n",
        "    zca_whitening=False,  # apply ZCA whitening\n",
        "    zca_epsilon=1e-06,  # epsilon for ZCA whitening\n",
        "    rotation_range=0,  # randomly rotate images in the range (degrees, 0 to 180)\n",
        "    # randomly shift images horizontally (fraction of total width)\n",
        "    width_shift_range=0.1,\n",
        "    # randomly shift images vertically (fraction of total height)\n",
        "    height_shift_range=0.1,\n",
        "    shear_range=0.,  # set range for random shear\n",
        "    zoom_range=0.,  # set range for random zoom\n",
        "    channel_shift_range=0.,  # set range for random channel shifts\n",
        "    # set mode for filling points outside the input boundaries\n",
        "    fill_mode='nearest',\n",
        "    cval=0.,  # value used for fill_mode = \"constant\"\n",
        "    horizontal_flip=True,  # randomly flip images\n",
        "    vertical_flip=False,  # randomly flip images\n",
        "    # set rescaling factor (applied before any other transformation)\n",
        "    rescale=None,\n",
        "    # set function that will be applied on each input\n",
        "    preprocessing_function=None,\n",
        "    # image data format, either \"channels_first\" or \"channels_last\"\n",
        "    data_format=None,\n",
        "    # fraction of images reserved for validation (strictly between 0 and 1)\n",
        "    validation_split=0.0)\n",
        "\n",
        "# Compute quantities required for feature-wise normalization\n",
        "# (std, mean, and principal components if ZCA whitening is applied).\n",
        "datagen.fit(x_train)"
      ],
      "execution_count": 0,
      "outputs": [
        {
          "output_type": "stream",
          "text": [
            "Using real-time data augmentation.\n"
          ],
          "name": "stdout"
        }
      ]
    },
    {
      "cell_type": "code",
      "metadata": {
        "id": "C2Zt4zUjoYnc",
        "colab_type": "code",
        "colab": {}
      },
      "source": [
        "filepath = \"./saved-model-{epoch:02d}-{val_acc:.2f}.hdf5\"\n",
        "checkpoint = keras.callbacks.ModelCheckpoint(filepath, monitor='val_acc', verbose=1, save_best_only=False, mode='max')"
      ],
      "execution_count": 0,
      "outputs": []
    },
    {
      "cell_type": "markdown",
      "metadata": {
        "id": "iDFttU7cJvdh",
        "colab_type": "text"
      },
      "source": [
        "네트워크를 직접 설계해 보세요!"
      ]
    },
    {
      "cell_type": "code",
      "metadata": {
        "id": "qMF9TgYlJvFq",
        "colab_type": "code",
        "outputId": "c85ec324-4b19-4508-a6a3-3392043c764f",
        "colab": {
          "base_uri": "https://localhost:8080/",
          "height": 489
        }
      },
      "source": [
        "# for example,\n",
        "n_kernels = 32\n",
        "model = Sequential()\n",
        "\n",
        "# N, 32, 32, 3\n",
        "model.add(Conv2D(n_kernels, (3,3), activation='relu', kernel_initializer='he_normal', padding='valid', input_shape=(32, 32, 3)))\n",
        "# N, 30, 30, 32\n",
        "model.add(Conv2D(n_kernels*2, (3, 3), activation='relu', kernel_initializer='he_normal', padding='valid'))\n",
        "# N, 28, 28, 64\n",
        "model.add(BatchNormalization())\n",
        "# N, 28, 28, 64\n",
        "model.add(MaxPooling2D())\n",
        "\n",
        "# N, 14, 14, 64\n",
        "model.add(Conv2D(n_kernels*2, (3,3), activation='relu', kernel_initializer='he_normal', padding='valid'))\n",
        "# N, 12, 12, 64\n",
        "model.add(Conv2D(n_kernels*4, (3, 3), activation='relu', kernel_initializer='he_normal', padding='valid'))\n",
        "# N, 10, 10, 128\n",
        "model.add(BatchNormalization())\n",
        "# N, 10, 10, 128\n",
        "model.add(MaxPooling2D())\n",
        "\n",
        "# N, 5, 5, 128\n",
        "model.add(Conv2D(n_kernels*8, (3,3), activation='relu', kernel_initializer='he_normal', padding='valid'))\n",
        "# N, 3, 3, 256\n",
        "model.add(BatchNormalization())\n",
        "\n",
        "# N, 3, 3, 256\n",
        "model.add(GlobalAveragePooling2D()) # 기존의 CNN에서 feature map을 flatten하는 방식이 비효율적이라고 판단하여 새롭게 등장한 방법(각 feature map의 평균을 구해서 flatten처럼 길게 배열)\n",
        "# N, 256\n",
        "model.add(Dense(10, activation='softmax', kernel_initializer='glorot_uniform'))\n",
        "# N, 10"
      ],
      "execution_count": 0,
      "outputs": [
        {
          "output_type": "stream",
          "text": [
            "WARNING:tensorflow:From /usr/local/lib/python3.6/dist-packages/keras/backend/tensorflow_backend.py:66: The name tf.get_default_graph is deprecated. Please use tf.compat.v1.get_default_graph instead.\n",
            "\n",
            "WARNING:tensorflow:From /usr/local/lib/python3.6/dist-packages/keras/backend/tensorflow_backend.py:541: The name tf.placeholder is deprecated. Please use tf.compat.v1.placeholder instead.\n",
            "\n",
            "WARNING:tensorflow:From /usr/local/lib/python3.6/dist-packages/keras/backend/tensorflow_backend.py:4479: The name tf.truncated_normal is deprecated. Please use tf.random.truncated_normal instead.\n",
            "\n",
            "WARNING:tensorflow:From /usr/local/lib/python3.6/dist-packages/keras/backend/tensorflow_backend.py:190: The name tf.get_default_session is deprecated. Please use tf.compat.v1.get_default_session instead.\n",
            "\n",
            "WARNING:tensorflow:From /usr/local/lib/python3.6/dist-packages/keras/backend/tensorflow_backend.py:197: The name tf.ConfigProto is deprecated. Please use tf.compat.v1.ConfigProto instead.\n",
            "\n",
            "WARNING:tensorflow:From /usr/local/lib/python3.6/dist-packages/keras/backend/tensorflow_backend.py:203: The name tf.Session is deprecated. Please use tf.compat.v1.Session instead.\n",
            "\n",
            "WARNING:tensorflow:From /usr/local/lib/python3.6/dist-packages/keras/backend/tensorflow_backend.py:207: The name tf.global_variables is deprecated. Please use tf.compat.v1.global_variables instead.\n",
            "\n",
            "WARNING:tensorflow:From /usr/local/lib/python3.6/dist-packages/keras/backend/tensorflow_backend.py:216: The name tf.is_variable_initialized is deprecated. Please use tf.compat.v1.is_variable_initialized instead.\n",
            "\n",
            "WARNING:tensorflow:From /usr/local/lib/python3.6/dist-packages/keras/backend/tensorflow_backend.py:223: The name tf.variables_initializer is deprecated. Please use tf.compat.v1.variables_initializer instead.\n",
            "\n",
            "WARNING:tensorflow:From /usr/local/lib/python3.6/dist-packages/keras/backend/tensorflow_backend.py:2041: The name tf.nn.fused_batch_norm is deprecated. Please use tf.compat.v1.nn.fused_batch_norm instead.\n",
            "\n",
            "WARNING:tensorflow:From /usr/local/lib/python3.6/dist-packages/keras/backend/tensorflow_backend.py:148: The name tf.placeholder_with_default is deprecated. Please use tf.compat.v1.placeholder_with_default instead.\n",
            "\n",
            "WARNING:tensorflow:From /usr/local/lib/python3.6/dist-packages/keras/backend/tensorflow_backend.py:4267: The name tf.nn.max_pool is deprecated. Please use tf.nn.max_pool2d instead.\n",
            "\n",
            "WARNING:tensorflow:From /usr/local/lib/python3.6/dist-packages/keras/backend/tensorflow_backend.py:4432: The name tf.random_uniform is deprecated. Please use tf.random.uniform instead.\n",
            "\n"
          ],
          "name": "stdout"
        }
      ]
    },
    {
      "cell_type": "code",
      "metadata": {
        "id": "tTTlF8aFH4gR",
        "colab_type": "code",
        "outputId": "50c49f8d-579f-48ac-bbe0-f4ba00893e02",
        "colab": {
          "base_uri": "https://localhost:8080/",
          "height": 573
        }
      },
      "source": [
        "model.summary()"
      ],
      "execution_count": 0,
      "outputs": [
        {
          "output_type": "stream",
          "text": [
            "Model: \"sequential_1\"\n",
            "_________________________________________________________________\n",
            "Layer (type)                 Output Shape              Param #   \n",
            "=================================================================\n",
            "conv2d_1 (Conv2D)            (None, 30, 30, 32)        896       \n",
            "_________________________________________________________________\n",
            "conv2d_2 (Conv2D)            (None, 28, 28, 64)        18496     \n",
            "_________________________________________________________________\n",
            "batch_normalization_1 (Batch (None, 28, 28, 64)        256       \n",
            "_________________________________________________________________\n",
            "max_pooling2d_1 (MaxPooling2 (None, 14, 14, 64)        0         \n",
            "_________________________________________________________________\n",
            "conv2d_3 (Conv2D)            (None, 12, 12, 64)        36928     \n",
            "_________________________________________________________________\n",
            "conv2d_4 (Conv2D)            (None, 10, 10, 128)       73856     \n",
            "_________________________________________________________________\n",
            "batch_normalization_2 (Batch (None, 10, 10, 128)       512       \n",
            "_________________________________________________________________\n",
            "max_pooling2d_2 (MaxPooling2 (None, 5, 5, 128)         0         \n",
            "_________________________________________________________________\n",
            "conv2d_5 (Conv2D)            (None, 3, 3, 256)         295168    \n",
            "_________________________________________________________________\n",
            "batch_normalization_3 (Batch (None, 3, 3, 256)         1024      \n",
            "_________________________________________________________________\n",
            "global_average_pooling2d_1 ( (None, 256)               0         \n",
            "_________________________________________________________________\n",
            "dense_1 (Dense)              (None, 10)                2570      \n",
            "=================================================================\n",
            "Total params: 429,706\n",
            "Trainable params: 428,810\n",
            "Non-trainable params: 896\n",
            "_________________________________________________________________\n"
          ],
          "name": "stdout"
        }
      ]
    },
    {
      "cell_type": "code",
      "metadata": {
        "id": "NT5sENY6KNrG",
        "colab_type": "code",
        "colab": {}
      },
      "source": [
        "opt = keras.optimizers.rmsprop(lr=0.0001, decay=1e-6)"
      ],
      "execution_count": 0,
      "outputs": []
    },
    {
      "cell_type": "code",
      "metadata": {
        "id": "9IeXOhUUon7i",
        "colab_type": "code",
        "outputId": "f26825c0-fad1-4e1d-c612-ed6b988fc82e",
        "colab": {
          "base_uri": "https://localhost:8080/",
          "height": 86
        }
      },
      "source": [
        "model.compile(loss='categorical_crossentropy',\n",
        "              optimizer=opt,\n",
        "              metrics=['accuracy'])"
      ],
      "execution_count": 0,
      "outputs": [
        {
          "output_type": "stream",
          "text": [
            "WARNING:tensorflow:From /usr/local/lib/python3.6/dist-packages/keras/optimizers.py:793: The name tf.train.Optimizer is deprecated. Please use tf.compat.v1.train.Optimizer instead.\n",
            "\n",
            "WARNING:tensorflow:From /usr/local/lib/python3.6/dist-packages/keras/backend/tensorflow_backend.py:3576: The name tf.log is deprecated. Please use tf.math.log instead.\n",
            "\n"
          ],
          "name": "stdout"
        }
      ]
    },
    {
      "cell_type": "code",
      "metadata": {
        "id": "Zd1E5FY4JqQG",
        "colab_type": "code",
        "outputId": "88b193a5-0865-4319-b2f4-561d659ccd23",
        "colab": {
          "base_uri": "https://localhost:8080/",
          "height": 1000
        }
      },
      "source": [
        "# Let's train the model using RMSprop\n",
        "model.fit_generator(datagen.flow(x_train, y_train,\n",
        "                                     batch_size=batch_size),\n",
        "                        epochs=epochs,\n",
        "                        validation_data=(x_test, y_test),\n",
        "                        workers=4, callbacks=[checkpoint])"
      ],
      "execution_count": 0,
      "outputs": [
        {
          "output_type": "stream",
          "text": [
            "WARNING:tensorflow:From /usr/local/lib/python3.6/dist-packages/tensorflow_core/python/ops/math_grad.py:1424: where (from tensorflow.python.ops.array_ops) is deprecated and will be removed in a future version.\n",
            "Instructions for updating:\n",
            "Use tf.where in 2.0, which has the same broadcast rule as np.where\n",
            "WARNING:tensorflow:From /usr/local/lib/python3.6/dist-packages/keras/backend/tensorflow_backend.py:1033: The name tf.assign_add is deprecated. Please use tf.compat.v1.assign_add instead.\n",
            "\n",
            "WARNING:tensorflow:From /usr/local/lib/python3.6/dist-packages/keras/backend/tensorflow_backend.py:1020: The name tf.assign is deprecated. Please use tf.compat.v1.assign instead.\n",
            "\n",
            "Epoch 1/25\n",
            "3125/3125 [==============================] - 49s 16ms/step - loss: 1.4630 - acc: 0.4798 - val_loss: 1.4850 - val_acc: 0.4973\n",
            "\n",
            "Epoch 00001: saving model to ./saved-model-01-0.50.hdf5\n",
            "Epoch 2/25\n",
            "3125/3125 [==============================] - 41s 13ms/step - loss: 1.1853 - acc: 0.5843 - val_loss: 1.1230 - val_acc: 0.6105\n",
            "\n",
            "Epoch 00002: saving model to ./saved-model-02-0.61.hdf5\n",
            "Epoch 3/25\n",
            "3125/3125 [==============================] - 41s 13ms/step - loss: 1.0782 - acc: 0.6266 - val_loss: 0.9726 - val_acc: 0.6567\n",
            "\n",
            "Epoch 00003: saving model to ./saved-model-03-0.66.hdf5\n",
            "Epoch 4/25\n",
            "3125/3125 [==============================] - 40s 13ms/step - loss: 0.9963 - acc: 0.6533 - val_loss: 0.9691 - val_acc: 0.6731\n",
            "\n",
            "Epoch 00004: saving model to ./saved-model-04-0.67.hdf5\n",
            "Epoch 5/25\n",
            "3125/3125 [==============================] - 41s 13ms/step - loss: 0.9428 - acc: 0.6750 - val_loss: 0.9209 - val_acc: 0.6933\n",
            "\n",
            "Epoch 00005: saving model to ./saved-model-05-0.69.hdf5\n",
            "Epoch 6/25\n",
            "3125/3125 [==============================] - 40s 13ms/step - loss: 0.8898 - acc: 0.6928 - val_loss: 0.8998 - val_acc: 0.6950\n",
            "\n",
            "Epoch 00006: saving model to ./saved-model-06-0.69.hdf5\n",
            "Epoch 7/25\n",
            "3125/3125 [==============================] - 41s 13ms/step - loss: 0.8514 - acc: 0.7083 - val_loss: 0.8015 - val_acc: 0.7186\n",
            "\n",
            "Epoch 00007: saving model to ./saved-model-07-0.72.hdf5\n",
            "Epoch 8/25\n",
            "3125/3125 [==============================] - 41s 13ms/step - loss: 0.8125 - acc: 0.7204 - val_loss: 0.7631 - val_acc: 0.7386\n",
            "\n",
            "Epoch 00008: saving model to ./saved-model-08-0.74.hdf5\n",
            "Epoch 9/25\n",
            "3125/3125 [==============================] - 41s 13ms/step - loss: 0.7884 - acc: 0.7311 - val_loss: 0.7600 - val_acc: 0.7355\n",
            "\n",
            "Epoch 00009: saving model to ./saved-model-09-0.74.hdf5\n",
            "Epoch 10/25\n",
            "3125/3125 [==============================] - 40s 13ms/step - loss: 0.7553 - acc: 0.7397 - val_loss: 0.7284 - val_acc: 0.7528\n",
            "\n",
            "Epoch 00010: saving model to ./saved-model-10-0.75.hdf5\n",
            "Epoch 11/25\n",
            "3125/3125 [==============================] - 40s 13ms/step - loss: 0.7380 - acc: 0.7492 - val_loss: 0.6999 - val_acc: 0.7621\n",
            "\n",
            "Epoch 00011: saving model to ./saved-model-11-0.76.hdf5\n",
            "Epoch 12/25\n",
            "3125/3125 [==============================] - 40s 13ms/step - loss: 0.7116 - acc: 0.7572 - val_loss: 0.6687 - val_acc: 0.7724\n",
            "\n",
            "Epoch 00012: saving model to ./saved-model-12-0.77.hdf5\n",
            "Epoch 13/25\n",
            "3125/3125 [==============================] - 40s 13ms/step - loss: 0.6947 - acc: 0.7618 - val_loss: 0.6730 - val_acc: 0.7695\n",
            "\n",
            "Epoch 00013: saving model to ./saved-model-13-0.77.hdf5\n",
            "Epoch 14/25\n",
            "3125/3125 [==============================] - 39s 13ms/step - loss: 0.6781 - acc: 0.7684 - val_loss: 0.7604 - val_acc: 0.7489\n",
            "\n",
            "Epoch 00014: saving model to ./saved-model-14-0.75.hdf5\n",
            "Epoch 15/25\n",
            "3125/3125 [==============================] - 39s 13ms/step - loss: 0.6639 - acc: 0.7730 - val_loss: 0.6367 - val_acc: 0.7814\n",
            "\n",
            "Epoch 00015: saving model to ./saved-model-15-0.78.hdf5\n",
            "Epoch 16/25\n",
            "3125/3125 [==============================] - 39s 13ms/step - loss: 0.6431 - acc: 0.7797 - val_loss: 0.6213 - val_acc: 0.7893\n",
            "\n",
            "Epoch 00016: saving model to ./saved-model-16-0.79.hdf5\n",
            "Epoch 17/25\n",
            "3125/3125 [==============================] - 39s 12ms/step - loss: 0.6309 - acc: 0.7858 - val_loss: 0.6645 - val_acc: 0.7842\n",
            "\n",
            "Epoch 00017: saving model to ./saved-model-17-0.78.hdf5\n",
            "Epoch 18/25\n",
            "3125/3125 [==============================] - 39s 12ms/step - loss: 0.6172 - acc: 0.7895 - val_loss: 0.6132 - val_acc: 0.7924\n",
            "\n",
            "Epoch 00018: saving model to ./saved-model-18-0.79.hdf5\n",
            "Epoch 19/25\n",
            "3125/3125 [==============================] - 38s 12ms/step - loss: 0.6091 - acc: 0.7912 - val_loss: 0.6354 - val_acc: 0.7888\n",
            "\n",
            "Epoch 00019: saving model to ./saved-model-19-0.79.hdf5\n",
            "Epoch 20/25\n",
            "3125/3125 [==============================] - 38s 12ms/step - loss: 0.5898 - acc: 0.7993 - val_loss: 0.5836 - val_acc: 0.7994\n",
            "\n",
            "Epoch 00020: saving model to ./saved-model-20-0.80.hdf5\n",
            "Epoch 21/25\n",
            "3125/3125 [==============================] - 38s 12ms/step - loss: 0.5829 - acc: 0.8034 - val_loss: 0.5640 - val_acc: 0.8105\n",
            "\n",
            "Epoch 00021: saving model to ./saved-model-21-0.81.hdf5\n",
            "Epoch 22/25\n",
            "3125/3125 [==============================] - 38s 12ms/step - loss: 0.5688 - acc: 0.8046 - val_loss: 0.6031 - val_acc: 0.7984\n",
            "\n",
            "Epoch 00022: saving model to ./saved-model-22-0.80.hdf5\n",
            "Epoch 23/25\n",
            "3125/3125 [==============================] - 38s 12ms/step - loss: 0.5627 - acc: 0.8085 - val_loss: 0.5757 - val_acc: 0.8082\n",
            "\n",
            "Epoch 00023: saving model to ./saved-model-23-0.81.hdf5\n",
            "Epoch 24/25\n",
            "3125/3125 [==============================] - 38s 12ms/step - loss: 0.5492 - acc: 0.8136 - val_loss: 0.6641 - val_acc: 0.7816\n",
            "\n",
            "Epoch 00024: saving model to ./saved-model-24-0.78.hdf5\n",
            "Epoch 25/25\n",
            "3125/3125 [==============================] - 38s 12ms/step - loss: 0.5466 - acc: 0.8139 - val_loss: 0.5924 - val_acc: 0.8068\n",
            "\n",
            "Epoch 00025: saving model to ./saved-model-25-0.81.hdf5\n"
          ],
          "name": "stdout"
        },
        {
          "output_type": "execute_result",
          "data": {
            "text/plain": [
              "<keras.callbacks.History at 0x7f777639e390>"
            ]
          },
          "metadata": {
            "tags": []
          },
          "execution_count": 16
        }
      ]
    }
  ]
}
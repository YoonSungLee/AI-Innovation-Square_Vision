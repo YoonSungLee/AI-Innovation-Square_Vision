{
  "nbformat": 4,
  "nbformat_minor": 0,
  "metadata": {
    "colab": {
      "name": "FashionMnist2.ipynb",
      "provenance": [],
      "collapsed_sections": [],
      "include_colab_link": true
    },
    "kernelspec": {
      "name": "python3",
      "display_name": "Python 3"
    },
    "accelerator": "GPU"
  },
  "cells": [
    {
      "cell_type": "markdown",
      "metadata": {
        "id": "view-in-github",
        "colab_type": "text"
      },
      "source": [
        "<a href=\"https://colab.research.google.com/github/YoonSungLee/AI-Innovation-Square_Vision/blob/master/Day%2010_Object%20detection%20%EC%9D%91%EC%9A%A9%20%ED%94%84%EB%A1%9C%EA%B7%B8%EB%9E%A8%20%EA%B0%9C%EB%B0%9C%ED%95%98%EA%B8%B0/FashionMnist2.ipynb\" target=\"_parent\"><img src=\"https://colab.research.google.com/assets/colab-badge.svg\" alt=\"Open In Colab\"/></a>"
      ]
    },
    {
      "cell_type": "code",
      "metadata": {
        "id": "XRX0Lxp3ovAe",
        "colab_type": "code",
        "outputId": "d11c16d6-3b76-460c-ae59-7005b2339272",
        "colab": {
          "base_uri": "https://localhost:8080/",
          "height": 82
        }
      },
      "source": [
        "import keras\n",
        "import numpy as np\n",
        "import matplotlib.pyplot as plt"
      ],
      "execution_count": 0,
      "outputs": [
        {
          "output_type": "stream",
          "text": [
            "Using TensorFlow backend.\n"
          ],
          "name": "stderr"
        },
        {
          "output_type": "display_data",
          "data": {
            "text/html": [
              "<p style=\"color: red;\">\n",
              "The default version of TensorFlow in Colab will soon switch to TensorFlow 2.x.<br>\n",
              "We recommend you <a href=\"https://www.tensorflow.org/guide/migrate\" target=\"_blank\">upgrade</a> now \n",
              "or ensure your notebook will continue to use TensorFlow 1.x via the <code>%tensorflow_version 1.x</code> magic:\n",
              "<a href=\"https://colab.research.google.com/notebooks/tensorflow_version.ipynb\" target=\"_blank\">more info</a>.</p>\n"
            ],
            "text/plain": [
              "<IPython.core.display.HTML object>"
            ]
          },
          "metadata": {
            "tags": []
          }
        }
      ]
    },
    {
      "cell_type": "code",
      "metadata": {
        "id": "hTVB_6XDrGLa",
        "colab_type": "code",
        "outputId": "0c74c3b1-f2ce-47c7-9d39-316b5a5cd989",
        "colab": {
          "base_uri": "https://localhost:8080/",
          "height": 126
        }
      },
      "source": [
        "from google.colab import auth\n",
        "auth.authenticate_user()\n",
        "\n",
        "from google.colab import drive\n",
        "drive.mount('/content/gdrive')"
      ],
      "execution_count": 0,
      "outputs": [
        {
          "output_type": "stream",
          "text": [
            "Go to this URL in a browser: https://accounts.google.com/o/oauth2/auth?client_id=947318989803-6bn6qk8qdgf4n4g3pfee6491hc0brc4i.apps.googleusercontent.com&redirect_uri=urn%3aietf%3awg%3aoauth%3a2.0%3aoob&response_type=code&scope=email%20https%3a%2f%2fwww.googleapis.com%2fauth%2fdocs.test%20https%3a%2f%2fwww.googleapis.com%2fauth%2fdrive%20https%3a%2f%2fwww.googleapis.com%2fauth%2fdrive.photos.readonly%20https%3a%2f%2fwww.googleapis.com%2fauth%2fpeopleapi.readonly\n",
            "\n",
            "Enter your authorization code:\n",
            "··········\n",
            "Mounted at /content/gdrive\n"
          ],
          "name": "stdout"
        }
      ]
    },
    {
      "cell_type": "code",
      "metadata": {
        "id": "Kt2XXfuFrmlg",
        "colab_type": "code",
        "outputId": "6f4e75c8-6b1f-4634-cf0f-1b4af6b2d91b",
        "colab": {
          "base_uri": "https://localhost:8080/",
          "height": 35
        }
      },
      "source": [
        "cd gdrive/My Drive/Colab Notebooks/models"
      ],
      "execution_count": 0,
      "outputs": [
        {
          "output_type": "stream",
          "text": [
            "/content/gdrive/My Drive/Colab Notebooks/models\n"
          ],
          "name": "stdout"
        }
      ]
    },
    {
      "cell_type": "code",
      "metadata": {
        "id": "Ku6OjW2do1PB",
        "colab_type": "code",
        "outputId": "d07a899e-a3b6-4087-a38e-cac5ee2f0c80",
        "colab": {
          "base_uri": "https://localhost:8080/",
          "height": 159
        }
      },
      "source": [
        "fashion_mnist = keras.datasets.fashion_mnist\n",
        "(train_images, train_labels), (test_images, test_labels) = fashion_mnist.load_data()"
      ],
      "execution_count": 0,
      "outputs": [
        {
          "output_type": "stream",
          "text": [
            "Downloading data from http://fashion-mnist.s3-website.eu-central-1.amazonaws.com/train-labels-idx1-ubyte.gz\n",
            "32768/29515 [=================================] - 0s 1us/step\n",
            "Downloading data from http://fashion-mnist.s3-website.eu-central-1.amazonaws.com/train-images-idx3-ubyte.gz\n",
            "26427392/26421880 [==============================] - 0s 0us/step\n",
            "Downloading data from http://fashion-mnist.s3-website.eu-central-1.amazonaws.com/t10k-labels-idx1-ubyte.gz\n",
            "8192/5148 [===============================================] - 0s 0us/step\n",
            "Downloading data from http://fashion-mnist.s3-website.eu-central-1.amazonaws.com/t10k-images-idx3-ubyte.gz\n",
            "4423680/4422102 [==============================] - 0s 0us/step\n"
          ],
          "name": "stdout"
        }
      ]
    },
    {
      "cell_type": "code",
      "metadata": {
        "id": "39L-82wVo5Tf",
        "colab_type": "code",
        "colab": {}
      },
      "source": [
        "class_names = ['T-shirt/top', 'Trouser', 'Pullover', 'Dress', 'Coat',\n",
        "               'Sandal', 'Shirt', 'Sneaker', 'Bag', 'Ankle boot']"
      ],
      "execution_count": 0,
      "outputs": []
    },
    {
      "cell_type": "code",
      "metadata": {
        "id": "zYFY8AGeo_8C",
        "colab_type": "code",
        "outputId": "89a87af7-df86-4416-b27d-c9c4dccca688",
        "colab": {
          "base_uri": "https://localhost:8080/",
          "height": 35
        }
      },
      "source": [
        "print (train_images.shape)"
      ],
      "execution_count": 0,
      "outputs": [
        {
          "output_type": "stream",
          "text": [
            "(60000, 28, 28)\n"
          ],
          "name": "stdout"
        }
      ]
    },
    {
      "cell_type": "code",
      "metadata": {
        "id": "wRbr20sGpCUx",
        "colab_type": "code",
        "outputId": "32faabd9-c25a-4191-da9e-c4456f3bc9b6",
        "colab": {
          "base_uri": "https://localhost:8080/",
          "height": 35
        }
      },
      "source": [
        "print (len(train_labels))"
      ],
      "execution_count": 0,
      "outputs": [
        {
          "output_type": "stream",
          "text": [
            "60000\n"
          ],
          "name": "stdout"
        }
      ]
    },
    {
      "cell_type": "code",
      "metadata": {
        "id": "-CzOmk13pEK3",
        "colab_type": "code",
        "outputId": "1a1dc4e5-c7e1-4699-9e9b-be5e07f559c1",
        "colab": {
          "base_uri": "https://localhost:8080/",
          "height": 35
        }
      },
      "source": [
        "train_labels"
      ],
      "execution_count": 0,
      "outputs": [
        {
          "output_type": "execute_result",
          "data": {
            "text/plain": [
              "array([9, 0, 0, ..., 3, 0, 5], dtype=uint8)"
            ]
          },
          "metadata": {
            "tags": []
          },
          "execution_count": 8
        }
      ]
    },
    {
      "cell_type": "code",
      "metadata": {
        "id": "q7FTheVUpFWI",
        "colab_type": "code",
        "outputId": "cc1d03c9-c557-40e1-c192-eedca2a84cf8",
        "colab": {
          "base_uri": "https://localhost:8080/",
          "height": 265
        }
      },
      "source": [
        "plt.figure()\n",
        "plt.imshow(train_images[0])\n",
        "plt.colorbar()\n",
        "plt.grid(False)\n",
        "plt.show()"
      ],
      "execution_count": 0,
      "outputs": [
        {
          "output_type": "display_data",
          "data": {
            "image/png": "[encoded data removed]",
            "text/plain": [
              "<Figure size 432x288 with 2 Axes>"
            ]
          },
          "metadata": {
            "tags": []
          }
        }
      ]
    },
    {
      "cell_type": "code",
      "metadata": {
        "id": "nbwgKSdHpHP0",
        "colab_type": "code",
        "colab": {}
      },
      "source": [
        "train_images = train_images / 255.0\n",
        "test_images = test_images / 255.0"
      ],
      "execution_count": 0,
      "outputs": []
    },
    {
      "cell_type": "code",
      "metadata": {
        "id": "4S_ChL3PpN76",
        "colab_type": "code",
        "outputId": "5868eba6-c1f8-4a9f-b448-0f8186d6ea00",
        "colab": {
          "base_uri": "https://localhost:8080/",
          "height": 589
        }
      },
      "source": [
        "plt.figure(figsize=(10,10))\n",
        "for i in range(25):\n",
        "    plt.subplot(5,5,i+1)\n",
        "    plt.xticks([])\n",
        "    plt.yticks([])\n",
        "    plt.grid(False)\n",
        "    plt.imshow(train_images[i], cmap=plt.cm.binary)\n",
        "    plt.xlabel(class_names[train_labels[i]])\n",
        "plt.show()"
      ],
      "execution_count": 0,
      "outputs": [
        {
          "output_type": "display_data",
          "data": {
            "image/png": "[encoded data removed]",
            "text/plain": [
              "<Figure size 720x720 with 25 Axes>"
            ]
          },
          "metadata": {
            "tags": []
          }
        }
      ]
    },
    {
      "cell_type": "code",
      "metadata": {
        "id": "ms_-PXovpPHI",
        "colab_type": "code",
        "outputId": "3b5619ee-164f-4f79-a1e8-912200717705",
        "colab": {
          "base_uri": "https://localhost:8080/",
          "height": 498
        }
      },
      "source": [
        "n_kernels = 32\n",
        "model = keras.Sequential([\n",
        "    # N, 28, 28, 1\n",
        "    keras.layers.Conv2D(n_kernels, (3,3), activation='relu', kernel_initializer='he_normal', padding='valid', input_shape=(28, 28, 1)),\n",
        "    # N, 26, 26, 32\n",
        "    keras.layers.Conv2D(n_kernels*2, (3,3), activation='relu', kernel_initializer='he_normal', padding='valid'),\n",
        "    # N, 24, 24, 64\n",
        "    keras.layers.BatchNormalization(),\n",
        "    # N, 24, 24, 64\n",
        "    keras.layers.MaxPooling2D(),\n",
        "    # N, 12, 12, 64\n",
        "    keras.layers.Conv2D(n_kernels*2, (3,3), activation='relu', kernel_initializer='he_normal', padding='valid'),\n",
        "    # N, 10, 10, 64\n",
        "    keras.layers.Conv2D(n_kernels*4, (3,3), activation='relu', kernel_initializer='he_normal', padding='valid'),\n",
        "    # N, 8, 8, 128\n",
        "    keras.layers.BatchNormalization(),\n",
        "    # N, 8, 8, 128\n",
        "    keras.layers.MaxPooling2D(),\n",
        "    # N, 4, 4, 128\n",
        "    keras.layers.Flatten(),\n",
        "    # N, 2048\n",
        "    keras.layers.Dense(10, activation='softmax')\n",
        "    # N, 10\n",
        "])"
      ],
      "execution_count": 0,
      "outputs": [
        {
          "output_type": "stream",
          "text": [
            "WARNING:tensorflow:From /usr/local/lib/python3.6/dist-packages/keras/backend/tensorflow_backend.py:66: The name tf.get_default_graph is deprecated. Please use tf.compat.v1.get_default_graph instead.\n",
            "\n",
            "WARNING:tensorflow:From /usr/local/lib/python3.6/dist-packages/keras/backend/tensorflow_backend.py:541: The name tf.placeholder is deprecated. Please use tf.compat.v1.placeholder instead.\n",
            "\n",
            "WARNING:tensorflow:From /usr/local/lib/python3.6/dist-packages/keras/backend/tensorflow_backend.py:4479: The name tf.truncated_normal is deprecated. Please use tf.random.truncated_normal instead.\n",
            "\n",
            "WARNING:tensorflow:From /usr/local/lib/python3.6/dist-packages/keras/backend/tensorflow_backend.py:190: The name tf.get_default_session is deprecated. Please use tf.compat.v1.get_default_session instead.\n",
            "\n",
            "WARNING:tensorflow:From /usr/local/lib/python3.6/dist-packages/keras/backend/tensorflow_backend.py:197: The name tf.ConfigProto is deprecated. Please use tf.compat.v1.ConfigProto instead.\n",
            "\n",
            "WARNING:tensorflow:From /usr/local/lib/python3.6/dist-packages/keras/backend/tensorflow_backend.py:203: The name tf.Session is deprecated. Please use tf.compat.v1.Session instead.\n",
            "\n",
            "WARNING:tensorflow:From /usr/local/lib/python3.6/dist-packages/keras/backend/tensorflow_backend.py:207: The name tf.global_variables is deprecated. Please use tf.compat.v1.global_variables instead.\n",
            "\n",
            "WARNING:tensorflow:From /usr/local/lib/python3.6/dist-packages/keras/backend/tensorflow_backend.py:216: The name tf.is_variable_initialized is deprecated. Please use tf.compat.v1.is_variable_initialized instead.\n",
            "\n",
            "WARNING:tensorflow:From /usr/local/lib/python3.6/dist-packages/keras/backend/tensorflow_backend.py:223: The name tf.variables_initializer is deprecated. Please use tf.compat.v1.variables_initializer instead.\n",
            "\n",
            "WARNING:tensorflow:From /usr/local/lib/python3.6/dist-packages/keras/backend/tensorflow_backend.py:2041: The name tf.nn.fused_batch_norm is deprecated. Please use tf.compat.v1.nn.fused_batch_norm instead.\n",
            "\n",
            "WARNING:tensorflow:From /usr/local/lib/python3.6/dist-packages/keras/backend/tensorflow_backend.py:148: The name tf.placeholder_with_default is deprecated. Please use tf.compat.v1.placeholder_with_default instead.\n",
            "\n",
            "WARNING:tensorflow:From /usr/local/lib/python3.6/dist-packages/keras/backend/tensorflow_backend.py:4267: The name tf.nn.max_pool is deprecated. Please use tf.nn.max_pool2d instead.\n",
            "\n",
            "WARNING:tensorflow:From /usr/local/lib/python3.6/dist-packages/keras/backend/tensorflow_backend.py:4432: The name tf.random_uniform is deprecated. Please use tf.random.uniform instead.\n",
            "\n"
          ],
          "name": "stdout"
        }
      ]
    },
    {
      "cell_type": "code",
      "metadata": {
        "id": "XtkPy7bNY5Ek",
        "colab_type": "code",
        "outputId": "092e5c00-f52a-4ab0-b0c7-5ce60d4ccf1e",
        "colab": {
          "base_uri": "https://localhost:8080/",
          "height": 513
        }
      },
      "source": [
        "model.summary()"
      ],
      "execution_count": 0,
      "outputs": [
        {
          "output_type": "stream",
          "text": [
            "Model: \"sequential_1\"\n",
            "_________________________________________________________________\n",
            "Layer (type)                 Output Shape              Param #   \n",
            "=================================================================\n",
            "conv2d_1 (Conv2D)            (None, 26, 26, 32)        320       \n",
            "_________________________________________________________________\n",
            "conv2d_2 (Conv2D)            (None, 24, 24, 64)        18496     \n",
            "_________________________________________________________________\n",
            "batch_normalization_1 (Batch (None, 24, 24, 64)        256       \n",
            "_________________________________________________________________\n",
            "max_pooling2d_1 (MaxPooling2 (None, 12, 12, 64)        0         \n",
            "_________________________________________________________________\n",
            "conv2d_3 (Conv2D)            (None, 10, 10, 64)        36928     \n",
            "_________________________________________________________________\n",
            "conv2d_4 (Conv2D)            (None, 8, 8, 128)         73856     \n",
            "_________________________________________________________________\n",
            "batch_normalization_2 (Batch (None, 8, 8, 128)         512       \n",
            "_________________________________________________________________\n",
            "max_pooling2d_2 (MaxPooling2 (None, 4, 4, 128)         0         \n",
            "_________________________________________________________________\n",
            "flatten_1 (Flatten)          (None, 2048)              0         \n",
            "_________________________________________________________________\n",
            "dense_1 (Dense)              (None, 10)                20490     \n",
            "=================================================================\n",
            "Total params: 150,858\n",
            "Trainable params: 150,474\n",
            "Non-trainable params: 384\n",
            "_________________________________________________________________\n"
          ],
          "name": "stdout"
        }
      ]
    },
    {
      "cell_type": "code",
      "metadata": {
        "id": "_gXZXtj7pRE3",
        "colab_type": "code",
        "outputId": "a9d8da23-742a-418d-e2e3-b2b20b58b574",
        "colab": {
          "base_uri": "https://localhost:8080/",
          "height": 108
        }
      },
      "source": [
        "# categorical_crossentropy : train_labels를 one-hot encoding 하고 학습 및 예측([0,1,0],[1,0,0],[1,0,0],...)\n",
        "# sparse_categorical_crossentropy : train_labels를 one-hot encoding 하지 않고 변환하고 학습 및 예측(1,0,0,...)\n",
        "\n",
        "model.compile(optimizer='adam',\n",
        "              loss='sparse_categorical_crossentropy',\n",
        "              metrics=['accuracy'])"
      ],
      "execution_count": 0,
      "outputs": [
        {
          "output_type": "stream",
          "text": [
            "WARNING:tensorflow:From /usr/local/lib/python3.6/dist-packages/keras/optimizers.py:793: The name tf.train.Optimizer is deprecated. Please use tf.compat.v1.train.Optimizer instead.\n",
            "\n",
            "WARNING:tensorflow:From /usr/local/lib/python3.6/dist-packages/keras/backend/tensorflow_backend.py:3622: The name tf.log is deprecated. Please use tf.math.log instead.\n",
            "\n"
          ],
          "name": "stdout"
        }
      ]
    },
    {
      "cell_type": "code",
      "metadata": {
        "id": "6U_5HLLYqII-",
        "colab_type": "code",
        "colab": {}
      },
      "source": [
        "filepath = \"./saved-model-{epoch:02d}-{val_loss:.2f}.hdf5\"\n",
        "checkpoint = keras.callbacks.ModelCheckpoint(filepath, monitor='val_loss', verbose=1, save_best_only=False, mode='max')\n",
        "\n",
        "# filepath = \"./saved-model-{epoch:02d}-{val_acc:.2f}.hdf5\"\n",
        "# checkpoint = keras.callbacks.ModelCheckpoint(filepath, monitor='val_acc', verbose=1, save_best_only=False, mode='max')"
      ],
      "execution_count": 0,
      "outputs": []
    },
    {
      "cell_type": "code",
      "metadata": {
        "id": "IQL2iHN6YkP-",
        "colab_type": "code",
        "colab": {}
      },
      "source": [
        "train_images = np.expand_dims(train_images, axis=-1)"
      ],
      "execution_count": 0,
      "outputs": []
    },
    {
      "cell_type": "code",
      "metadata": {
        "id": "_PcO3kk7pSOn",
        "colab_type": "code",
        "outputId": "e1723ecf-e23e-462c-90d7-94effddcbcc8",
        "colab": {
          "base_uri": "https://localhost:8080/",
          "height": 1000
        }
      },
      "source": [
        "log = model.fit(train_images, train_labels, validation_split=0.2,\n",
        "            epochs=20,\n",
        "            shuffle=True, callbacks=[checkpoint])"
      ],
      "execution_count": 0,
      "outputs": [
        {
          "output_type": "stream",
          "text": [
            "WARNING:tensorflow:From /usr/local/lib/python3.6/dist-packages/tensorflow_core/python/ops/math_grad.py:1424: where (from tensorflow.python.ops.array_ops) is deprecated and will be removed in a future version.\n",
            "Instructions for updating:\n",
            "Use tf.where in 2.0, which has the same broadcast rule as np.where\n",
            "WARNING:tensorflow:From /usr/local/lib/python3.6/dist-packages/keras/backend/tensorflow_backend.py:1033: The name tf.assign_add is deprecated. Please use tf.compat.v1.assign_add instead.\n",
            "\n",
            "WARNING:tensorflow:From /usr/local/lib/python3.6/dist-packages/keras/backend/tensorflow_backend.py:1020: The name tf.assign is deprecated. Please use tf.compat.v1.assign instead.\n",
            "\n",
            "Train on 48000 samples, validate on 12000 samples\n",
            "Epoch 1/20\n",
            "48000/48000 [==============================] - 18s 366us/step - loss: 0.4594 - acc: 0.8448 - val_loss: 0.4570 - val_acc: 0.8371\n",
            "\n",
            "Epoch 00001: saving model to ./saved-model-01-0.46.hdf5\n",
            "Epoch 2/20\n",
            "48000/48000 [==============================] - 10s 215us/step - loss: 0.3163 - acc: 0.8901 - val_loss: 0.3852 - val_acc: 0.8768\n",
            "\n",
            "Epoch 00002: saving model to ./saved-model-02-0.39.hdf5\n",
            "Epoch 3/20\n",
            "48000/48000 [==============================] - 11s 225us/step - loss: 0.2605 - acc: 0.9073 - val_loss: 0.3075 - val_acc: 0.8870\n",
            "\n",
            "Epoch 00003: saving model to ./saved-model-03-0.31.hdf5\n",
            "Epoch 4/20\n",
            "48000/48000 [==============================] - 10s 218us/step - loss: 0.2255 - acc: 0.9201 - val_loss: 0.2655 - val_acc: 0.9073\n",
            "\n",
            "Epoch 00004: saving model to ./saved-model-04-0.27.hdf5\n",
            "Epoch 5/20\n",
            "48000/48000 [==============================] - 11s 223us/step - loss: 0.1925 - acc: 0.9309 - val_loss: 0.3417 - val_acc: 0.8862\n",
            "\n",
            "Epoch 00005: saving model to ./saved-model-05-0.34.hdf5\n",
            "Epoch 6/20\n",
            "48000/48000 [==============================] - 10s 216us/step - loss: 0.1669 - acc: 0.9408 - val_loss: 0.2725 - val_acc: 0.9079\n",
            "\n",
            "Epoch 00006: saving model to ./saved-model-06-0.27.hdf5\n",
            "Epoch 7/20\n",
            "48000/48000 [==============================] - 11s 220us/step - loss: 0.1418 - acc: 0.9498 - val_loss: 0.2950 - val_acc: 0.9127\n",
            "\n",
            "Epoch 00007: saving model to ./saved-model-07-0.30.hdf5\n",
            "Epoch 8/20\n",
            "48000/48000 [==============================] - 10s 214us/step - loss: 0.1176 - acc: 0.9574 - val_loss: 0.2600 - val_acc: 0.9153\n",
            "\n",
            "Epoch 00008: saving model to ./saved-model-08-0.26.hdf5\n",
            "Epoch 9/20\n",
            "48000/48000 [==============================] - 10s 217us/step - loss: 0.0989 - acc: 0.9644 - val_loss: 0.3176 - val_acc: 0.9096\n",
            "\n",
            "Epoch 00009: saving model to ./saved-model-09-0.32.hdf5\n",
            "Epoch 10/20\n",
            "48000/48000 [==============================] - 10s 211us/step - loss: 0.0831 - acc: 0.9704 - val_loss: 0.4135 - val_acc: 0.8951\n",
            "\n",
            "Epoch 00010: saving model to ./saved-model-10-0.41.hdf5\n",
            "Epoch 11/20\n",
            "48000/48000 [==============================] - 11s 225us/step - loss: 0.0734 - acc: 0.9734 - val_loss: 0.3476 - val_acc: 0.9150\n",
            "\n",
            "Epoch 00011: saving model to ./saved-model-11-0.35.hdf5\n",
            "Epoch 12/20\n",
            "48000/48000 [==============================] - 10s 213us/step - loss: 0.0607 - acc: 0.9785 - val_loss: 0.3301 - val_acc: 0.9129\n",
            "\n",
            "Epoch 00012: saving model to ./saved-model-12-0.33.hdf5\n",
            "Epoch 13/20\n",
            "48000/48000 [==============================] - 11s 219us/step - loss: 0.0531 - acc: 0.9805 - val_loss: 0.3496 - val_acc: 0.9154\n",
            "\n",
            "Epoch 00013: saving model to ./saved-model-13-0.35.hdf5\n",
            "Epoch 14/20\n",
            "48000/48000 [==============================] - 11s 220us/step - loss: 0.0511 - acc: 0.9810 - val_loss: 0.3819 - val_acc: 0.9152\n",
            "\n",
            "Epoch 00014: saving model to ./saved-model-14-0.38.hdf5\n",
            "Epoch 15/20\n",
            "48000/48000 [==============================] - 11s 226us/step - loss: 0.0444 - acc: 0.9840 - val_loss: 0.3637 - val_acc: 0.9185\n",
            "\n",
            "Epoch 00015: saving model to ./saved-model-15-0.36.hdf5\n",
            "Epoch 16/20\n",
            "48000/48000 [==============================] - 11s 233us/step - loss: 0.0392 - acc: 0.9860 - val_loss: 0.4020 - val_acc: 0.9093\n",
            "\n",
            "Epoch 00016: saving model to ./saved-model-16-0.40.hdf5\n",
            "Epoch 17/20\n",
            "48000/48000 [==============================] - 10s 216us/step - loss: 0.0318 - acc: 0.9888 - val_loss: 0.4261 - val_acc: 0.9134\n",
            "\n",
            "Epoch 00017: saving model to ./saved-model-17-0.43.hdf5\n",
            "Epoch 18/20\n",
            "48000/48000 [==============================] - 11s 228us/step - loss: 0.0384 - acc: 0.9860 - val_loss: 0.4111 - val_acc: 0.9142\n",
            "\n",
            "Epoch 00018: saving model to ./saved-model-18-0.41.hdf5\n",
            "Epoch 19/20\n",
            "48000/48000 [==============================] - 11s 219us/step - loss: 0.0302 - acc: 0.9896 - val_loss: 0.4231 - val_acc: 0.9155\n",
            "\n",
            "Epoch 00019: saving model to ./saved-model-19-0.42.hdf5\n",
            "Epoch 20/20\n",
            "48000/48000 [==============================] - 11s 228us/step - loss: 0.0265 - acc: 0.9907 - val_loss: 0.4600 - val_acc: 0.9094\n",
            "\n",
            "Epoch 00020: saving model to ./saved-model-20-0.46.hdf5\n"
          ],
          "name": "stdout"
        }
      ]
    },
    {
      "cell_type": "code",
      "metadata": {
        "id": "i3RfOVhzfI_0",
        "colab_type": "code",
        "outputId": "d3941c57-de7d-4ff3-e5da-bd5e5504731a",
        "colab": {
          "base_uri": "https://localhost:8080/",
          "height": 35
        }
      },
      "source": [
        "train_labels.shape"
      ],
      "execution_count": 0,
      "outputs": [
        {
          "output_type": "execute_result",
          "data": {
            "text/plain": [
              "(60000,)"
            ]
          },
          "metadata": {
            "tags": []
          },
          "execution_count": 18
        }
      ]
    },
    {
      "cell_type": "code",
      "metadata": {
        "id": "Bx5A6bGvdUbG",
        "colab_type": "code",
        "outputId": "4e8d3651-f3db-494e-81e2-38f98b3ac738",
        "colab": {
          "base_uri": "https://localhost:8080/",
          "height": 35
        }
      },
      "source": [
        "history_dict = log.history\n",
        "history_dict.keys()"
      ],
      "execution_count": 0,
      "outputs": [
        {
          "output_type": "execute_result",
          "data": {
            "text/plain": [
              "dict_keys(['val_loss', 'val_acc', 'loss', 'acc'])"
            ]
          },
          "metadata": {
            "tags": []
          },
          "execution_count": 19
        }
      ]
    },
    {
      "cell_type": "code",
      "metadata": {
        "id": "C02uH1-fd0Vk",
        "colab_type": "code",
        "outputId": "4e483635-5f94-40b3-b790-dde5b71dd4ca",
        "colab": {
          "base_uri": "https://localhost:8080/",
          "height": 295
        }
      },
      "source": [
        "import matplotlib.pyplot as plt\n",
        "\n",
        "acc = log.history['acc']\n",
        "val_acc = log.history['val_acc']\n",
        "loss = log.history['loss']\n",
        "val_loss = log.history['val_loss']\n",
        "\n",
        "epochs = range(1, len(acc) + 1)\n",
        "\n",
        "# ‘bo’는 파란색 점을 의미합니다\n",
        "plt.plot(epochs, loss, 'bo', label='Training loss')\n",
        "# ‘b’는 파란색 실선을 의미합니다\n",
        "plt.plot(epochs, val_loss, 'b', label='Validation loss')\n",
        "plt.title('Training and validation loss')\n",
        "plt.xlabel('Epochs')\n",
        "plt.ylabel('Loss')\n",
        "plt.legend()\n",
        "\n",
        "plt.show()"
      ],
      "execution_count": 0,
      "outputs": [
        {
          "output_type": "display_data",
          "data": {
            "image/png": "[encoded data removed]",
            "text/plain": [
              "<Figure size 432x288 with 1 Axes>"
            ]
          },
          "metadata": {
            "tags": []
          }
        }
      ]
    },
    {
      "cell_type": "code",
      "metadata": {
        "id": "bcAoul6Td5hl",
        "colab_type": "code",
        "outputId": "5b862978-2ec7-46f3-d8f0-0294df730f7c",
        "colab": {
          "base_uri": "https://localhost:8080/",
          "height": 295
        }
      },
      "source": [
        "plt.clf()   # 그래프를 초기화합니다\n",
        "acc = history_dict['acc']\n",
        "val_acc = history_dict['val_acc']\n",
        "\n",
        "plt.plot(epochs, acc, 'bo', label='Training acc')\n",
        "plt.plot(epochs, val_acc, 'b', label='Validation acc')\n",
        "plt.title('Training and validation accuracy')\n",
        "plt.xlabel('Epochs')\n",
        "plt.ylabel('Accuracy')\n",
        "plt.legend()\n",
        "\n",
        "plt.show()"
      ],
      "execution_count": 0,
      "outputs": [
        {
          "output_type": "display_data",
          "data": {
            "image/png": "[encoded data removed]",
            "text/plain": [
              "<Figure size 432x288 with 1 Axes>"
            ]
          },
          "metadata": {
            "tags": []
          }
        }
      ]
    },
    {
      "cell_type": "code",
      "metadata": {
        "id": "cGbDt4mPpTe5",
        "colab_type": "code",
        "outputId": "117b75c0-42ce-4147-c5db-b4c3209a58fd",
        "colab": {
          "base_uri": "https://localhost:8080/",
          "height": 53
        }
      },
      "source": [
        "test_loss, test_acc = model.evaluate(test_images,  test_labels, verbose=2)\n",
        "print('\\n테스트 정확도:', test_acc)"
      ],
      "execution_count": 0,
      "outputs": [
        {
          "output_type": "stream",
          "text": [
            "\n",
            "테스트 정확도: 0.871\n"
          ],
          "name": "stdout"
        }
      ]
    },
    {
      "cell_type": "markdown",
      "metadata": {
        "id": "RUHZXEmSpgJC",
        "colab_type": "text"
      },
      "source": [
        "Make Prediction"
      ]
    },
    {
      "cell_type": "code",
      "metadata": {
        "id": "uilQV4ANpj7n",
        "colab_type": "code",
        "colab": {}
      },
      "source": [
        "predictions = model.predict(test_images)"
      ],
      "execution_count": 0,
      "outputs": []
    },
    {
      "cell_type": "code",
      "metadata": {
        "id": "SAWtOW1KpnWF",
        "colab_type": "code",
        "outputId": "e6dce91d-a4f6-47a1-caec-a2b7d7ff7ff3",
        "colab": {
          "base_uri": "https://localhost:8080/",
          "height": 53
        }
      },
      "source": [
        "print (predictions[0])"
      ],
      "execution_count": 0,
      "outputs": [
        {
          "output_type": "stream",
          "text": [
            "[1.6575233e-07 8.8925010e-09 6.2656365e-09 1.2328996e-09 8.6471301e-09\n",
            " 1.7198850e-03 2.5931200e-07 3.0939369e-02 3.0299884e-07 9.6733999e-01]\n"
          ],
          "name": "stdout"
        }
      ]
    },
    {
      "cell_type": "code",
      "metadata": {
        "id": "iH5_Oc6RppSA",
        "colab_type": "code",
        "outputId": "b712f374-1c41-4751-915b-1710dc261f7b",
        "colab": {
          "base_uri": "https://localhost:8080/",
          "height": 35
        }
      },
      "source": [
        "np.argmax(predictions[0])"
      ],
      "execution_count": 0,
      "outputs": [
        {
          "output_type": "execute_result",
          "data": {
            "text/plain": [
              "9"
            ]
          },
          "metadata": {
            "tags": []
          },
          "execution_count": 21
        }
      ]
    },
    {
      "cell_type": "code",
      "metadata": {
        "id": "Unyto0ArprZK",
        "colab_type": "code",
        "outputId": "d93bef51-b353-4a90-b887-8c7f61218efb",
        "colab": {
          "base_uri": "https://localhost:8080/",
          "height": 35
        }
      },
      "source": [
        "test_labels[0]"
      ],
      "execution_count": 0,
      "outputs": [
        {
          "output_type": "execute_result",
          "data": {
            "text/plain": [
              "9"
            ]
          },
          "metadata": {
            "tags": []
          },
          "execution_count": 22
        }
      ]
    },
    {
      "cell_type": "code",
      "metadata": {
        "id": "_lxVIRTUpskA",
        "colab_type": "code",
        "colab": {}
      },
      "source": [
        "def plot_image(i, predictions_array, true_label, img):\n",
        "  predictions_array, true_label, img = predictions_array[i], true_label[i], img[i]\n",
        "  plt.grid(False)\n",
        "  plt.xticks([])\n",
        "  plt.yticks([])\n",
        "\n",
        "  plt.imshow(img, cmap=plt.cm.binary)\n",
        "\n",
        "  predicted_label = np.argmax(predictions_array)\n",
        "  if predicted_label == true_label:\n",
        "    color = 'blue'\n",
        "  else:\n",
        "    color = 'red'\n",
        "\n",
        "  plt.xlabel(\"{} {:2.0f}% ({})\".format(class_names[predicted_label],\n",
        "                                100*np.max(predictions_array),\n",
        "                                class_names[true_label]),\n",
        "                                color=color)\n",
        "\n",
        "def plot_value_array(i, predictions_array, true_label):\n",
        "  predictions_array, true_label = predictions_array[i], true_label[i]\n",
        "  plt.grid(False)\n",
        "  plt.xticks([])\n",
        "  plt.yticks([])\n",
        "  thisplot = plt.bar(range(10), predictions_array, color=\"#777777\")\n",
        "  plt.ylim([0, 1])\n",
        "  predicted_label = np.argmax(predictions_array)\n",
        "\n",
        "  thisplot[predicted_label].set_color('red')\n",
        "  thisplot[true_label].set_color('blue')"
      ],
      "execution_count": 0,
      "outputs": []
    },
    {
      "cell_type": "code",
      "metadata": {
        "id": "kCYknV5_pvFa",
        "colab_type": "code",
        "outputId": "473e1bc4-b6bd-436d-f16a-6f0d958d50d3",
        "colab": {
          "base_uri": "https://localhost:8080/",
          "height": 203
        }
      },
      "source": [
        "i = 0\n",
        "plt.figure(figsize=(6,3))\n",
        "plt.subplot(1,2,1)\n",
        "plot_image(i, predictions, test_labels, test_images)\n",
        "plt.subplot(1,2,2)\n",
        "plot_value_array(i, predictions,  test_labels)\n",
        "plt.show()"
      ],
      "execution_count": 0,
      "outputs": [
        {
          "output_type": "display_data",
          "data": {
            "image/png": "[encoded data removed]",
            "text/plain": [
              "<Figure size 432x216 with 2 Axes>"
            ]
          },
          "metadata": {
            "tags": []
          }
        }
      ]
    },
    {
      "cell_type": "code",
      "metadata": {
        "id": "o44MwmXDpysL",
        "colab_type": "code",
        "outputId": "cbab5153-3fa9-4aad-a395-0087660d4f60",
        "colab": {
          "base_uri": "https://localhost:8080/",
          "height": 203
        }
      },
      "source": [
        "i = 12\n",
        "plt.figure(figsize=(6,3))\n",
        "plt.subplot(1,2,1)\n",
        "plot_image(i, predictions, test_labels, test_images)\n",
        "plt.subplot(1,2,2)\n",
        "plot_value_array(i, predictions,  test_labels)\n",
        "plt.show()"
      ],
      "execution_count": 0,
      "outputs": [
        {
          "output_type": "display_data",
          "data": {
            "image/png": "[encoded data removed]",
            "text/plain": [
              "<Figure size 432x216 with 2 Axes>"
            ]
          },
          "metadata": {
            "tags": []
          }
        }
      ]
    },
    {
      "cell_type": "code",
      "metadata": {
        "id": "K_rDZA8rp2_Q",
        "colab_type": "code",
        "outputId": "6d5846cf-9e83-46cd-d6ef-b322b9fc44ab",
        "colab": {
          "base_uri": "https://localhost:8080/",
          "height": 589
        }
      },
      "source": [
        "num_rows = 5\n",
        "num_cols = 3\n",
        "num_images = num_rows*num_cols\n",
        "plt.figure(figsize=(2*2*num_cols, 2*num_rows))\n",
        "for i in range(num_images):\n",
        "  plt.subplot(num_rows, 2*num_cols, 2*i+1)\n",
        "  plot_image(i, predictions, test_labels, test_images)\n",
        "  plt.subplot(num_rows, 2*num_cols, 2*i+2)\n",
        "  plot_value_array(i, predictions, test_labels)\n",
        "plt.show()"
      ],
      "execution_count": 0,
      "outputs": [
        {
          "output_type": "display_data",
          "data": {
            "image/png": "[encoded data removed]",
            "text/plain": [
              "<Figure size 864x720 with 30 Axes>"
            ]
          },
          "metadata": {
            "tags": []
          }
        }
      ]
    }
  ]
}
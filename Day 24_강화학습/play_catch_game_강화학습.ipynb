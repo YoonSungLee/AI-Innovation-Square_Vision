{
 "cells": [
  {
   "cell_type": "code",
   "execution_count": 1,
   "metadata": {
    "scrolled": false
   },
   "outputs": [
    {
     "data": {
      "image/png": "[encoded data removed]",
      "text/plain": [
       "<Figure size 864x864 with 1 Axes>"
      ]
     },
     "metadata": {
      "needs_background": "light"
     },
     "output_type": "display_data"
    }
   ],
   "source": [
    "# -*- coding: utf-8 -*-\n",
    "\n",
    "%matplotlib\n",
    "%matplotlib inline\n",
    "\n",
    "from train_catch_game import *\n",
    "from IPython import display\n",
    "import matplotlib.patches as patches\n",
    "import pylab as pl\n",
    "import time\n",
    "#import tensorflow as tf\n",
    "import tensorflow.compat.v1 as tf\n",
    "tf.disable_v2_behavior() \n",
    "import os\n",
    "\n",
    "\n",
    "# 설정값들을 정의합니다.\n",
    "gridSize = 10\n",
    "maxGames = 30\n",
    "env = CatchEnvironment(gridSize)\n",
    "winCount = 0\n",
    "loseCount = 0\n",
    "numberOfGames = 0\n",
    "\n",
    "# 화면을 그리기 위한 설정들을 정의합니다.\n",
    "ground = 1\n",
    "plot = pl.figure(figsize=(12,12))\n",
    "axis = plot.add_subplot(111, aspect='equal')\n",
    "axis.set_xlim([-1, 12])\n",
    "axis.set_ylim([0, 12])\n",
    "\n",
    "# 파라미터를 불러오기 위한 tf.train.Saver() class를 선언합니다.\n",
    "saver = tf.train.Saver()\n",
    "\n",
    "# 현재 상태를 그리기 위한 drawState 함수를 정의합니다.\n",
    "def drawState(fruitRow, fruitColumn, basket, gridSize):\n",
    "  # 과일이 몇번째 세로축에 있는지 정의합니다.\n",
    "  fruitX = fruitColumn \n",
    "  # 과일이 몇번째 가로축에 있는지 정의합니다.\n",
    "  fruitY = (gridSize - fruitRow + 1)\n",
    "  # 승리 횟수, 패배 횟수, 전체 게임 횟수를 화면 상단에 출력합니다.\n",
    "  statusTitle = \"Wins: \" + str(winCount) + \"  Losses: \" + str(loseCount) + \"  TotalGame: \" + str(numberOfGames)\n",
    "  axis.set_title(statusTitle, fontsize=30)\n",
    "  for p in [\n",
    "    # 배경의 위치를 지정합니다.\n",
    "    patches.Rectangle(\n",
    "        ((ground - 1), (ground)), 11, 10,\n",
    "        facecolor=\"#000000\"      # Black\n",
    "    ),\n",
    "    # 바구니의 위치를 지정합니다.\n",
    "    patches.Rectangle(\n",
    "        (basket - 1, ground), 2, 0.5,\n",
    "        facecolor=\"#FF0000\"     # Red\n",
    "    ),\n",
    "    # 과일의 위치를 지정합니다.\n",
    "    patches.Rectangle(\n",
    "        (fruitX - 0.5, fruitY - 0.5), 1, 1,\n",
    "        facecolor=\"#0000FF\"       # Blue\n",
    "    ),   \n",
    "    ]:\n",
    "      axis.add_patch(p)\n",
    "  display.clear_output(wait=True)\n",
    "  display.display(pl.gcf())\n",
    "\n",
    "\n",
    "with tf.Session() as sess:\n",
    "    \n",
    "  # 저장된 파라미터를 불러옵니다. \n",
    "  saver.restore(sess, os.getcwd()+\"/model.ckpt\")\n",
    "  print('저장된 파라미터를 불러왔습니다!')\n",
    "\n",
    "  # maxGames 횟수만큼 게임을 플레이합니다.\n",
    "  while (numberOfGames < maxGames):\n",
    "    numberOfGames = numberOfGames + 1\n",
    "     \n",
    "    # 최초의 상태를 정의합니다.\n",
    "    isGameOver = False\n",
    "    fruitRow, fruitColumn, basket = env.reset()\n",
    "    currentState = env.observe()\n",
    "    drawState(fruitRow, fruitColumn, basket, gridSize)\n",
    "\n",
    "    while (isGameOver != True):\n",
    "      # 현재 상태를 DQN의 입력값으로 넣고 구한 Q값중 가장 큰 Q값을 갖는 행동을 취합니다.\n",
    "      q = sess.run(y_pred, feed_dict={x: currentState})\n",
    "      action = q.argmax()\n",
    "\n",
    "      # 행동을 취하고 다음 상태로 넘어갑니다.\n",
    "      nextState, reward, gameOver, stateInfo = env.act(action)    \n",
    "      fruitRow = stateInfo[0]\n",
    "      fruitColumn = stateInfo[1]\n",
    "      basket = stateInfo[2]\n",
    "     \n",
    "      # 과일을 받아내면 winCount를 1 늘리고 과일을 받아내지 못하면 loseCount를 1 늘립니다.\n",
    "      if (reward == 1):\n",
    "        winCount = winCount + 1\n",
    "      elif (reward == -1):\n",
    "        loseCount = loseCount + 1\n",
    "\n",
    "      currentState = nextState\n",
    "      isGameOver = gameOver\n",
    "      drawState(fruitRow, fruitColumn, basket, gridSize)\n",
    "      # 다음 행동을 취하기 전에 0.05초의 일시정지를 줍니다.\n",
    "      time.sleep(0.05)\n",
    "\n",
    "# 최종 출력결과 이미지를 하나로 정리합니다.\n",
    "display.clear_output(wait=True)"
   ]
  },
  {
   "cell_type": "code",
   "execution_count": null,
   "metadata": {},
   "outputs": [],
   "source": []
  },
  {
   "cell_type": "code",
   "execution_count": null,
   "metadata": {},
   "outputs": [],
   "source": []
  }
 ],
 "metadata": {
  "anaconda-cloud": {},
  "kernelspec": {
   "display_name": "Python 3",
   "language": "python",
   "name": "python3"
  },
  "language_info": {
   "codemirror_mode": {
    "name": "ipython",
    "version": 3
   },
   "file_extension": ".py",
   "mimetype": "text/x-python",
   "name": "python",
   "nbconvert_exporter": "python",
   "pygments_lexer": "ipython3",
   "version": "3.7.6"
  }
 },
 "nbformat": 4,
 "nbformat_minor": 2
}

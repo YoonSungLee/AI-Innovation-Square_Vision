{
  "nbformat": 4,
  "nbformat_minor": 0,
  "metadata": {
    "colab": {
      "name": "Autoencoder.ipynb",
      "provenance": [],
      "collapsed_sections": [],
      "include_colab_link": true
    },
    "kernelspec": {
      "name": "python2",
      "display_name": "Python 2"
    },
    "accelerator": "GPU"
  },
  "cells": [
    {
      "cell_type": "markdown",
      "metadata": {
        "id": "view-in-github",
        "colab_type": "text"
      },
      "source": [
        "<a href=\"https://colab.research.google.com/github/YoonSungLee/AI-Innovation-Square_Vision/blob/master/Day%209_Autoencoder%20%ED%99%9C%EC%9A%A9%ED%95%98%EA%B8%B0/Autoencoder.ipynb\" target=\"_parent\"><img src=\"https://colab.research.google.com/assets/colab-badge.svg\" alt=\"Open In Colab\"/></a>"
      ]
    },
    {
      "cell_type": "code",
      "metadata": {
        "id": "-kjkKo89DtHg",
        "colab_type": "code",
        "outputId": "ea9248ad-6a22-4daf-a770-7218f804b248",
        "colab": {
          "base_uri": "https://localhost:8080/",
          "height": 35
        }
      },
      "source": [
        "from keras.layers import Input, Dense\n",
        "from keras.models import Model"
      ],
      "execution_count": 0,
      "outputs": [
        {
          "output_type": "stream",
          "text": [
            "Using TensorFlow backend.\n"
          ],
          "name": "stderr"
        }
      ]
    },
    {
      "cell_type": "code",
      "metadata": {
        "id": "mJ9oLAjJD7zH",
        "colab_type": "code",
        "outputId": "23a3ade8-6b03-44d2-d809-691eaf35caaf",
        "colab": {
          "base_uri": "https://localhost:8080/",
          "height": 162
        }
      },
      "source": [
        "# encoding_dim이나 hidden layer의 수는 개발자가 임의로 정하는 요소\n",
        "\n",
        "# encoding dim은 축소된 representation vector의 크기를 말합니다.\n",
        "encoding_dim = 32  # 32 floats -> compression of factor 24.5, assuming the input is 784 floats\n",
        "\n",
        "\n",
        "input_img = Input(shape=(784,))\n",
        "encoded = Dense(encoding_dim, activation='relu')(input_img)\n",
        "decoded = Dense(784, activation='sigmoid')(encoded) # 0~1의 출력을 만들어줘서 input data(0~1사이의 데이터들)와 비교\n",
        "\n",
        "autoencoder = Model(input_img, decoded)"
      ],
      "execution_count": 0,
      "outputs": [
        {
          "output_type": "stream",
          "text": [
            "WARNING: Logging before flag parsing goes to stderr.\n",
            "W0712 07:27:48.006177 139625664034688 deprecation_wrapper.py:119] From /usr/local/lib/python2.7/dist-packages/keras/backend/tensorflow_backend.py:74: The name tf.get_default_graph is deprecated. Please use tf.compat.v1.get_default_graph instead.\n",
            "\n",
            "W0712 07:27:48.043637 139625664034688 deprecation_wrapper.py:119] From /usr/local/lib/python2.7/dist-packages/keras/backend/tensorflow_backend.py:517: The name tf.placeholder is deprecated. Please use tf.compat.v1.placeholder instead.\n",
            "\n",
            "W0712 07:27:48.050662 139625664034688 deprecation_wrapper.py:119] From /usr/local/lib/python2.7/dist-packages/keras/backend/tensorflow_backend.py:4138: The name tf.random_uniform is deprecated. Please use tf.random.uniform instead.\n",
            "\n"
          ],
          "name": "stderr"
        }
      ]
    },
    {
      "cell_type": "code",
      "metadata": {
        "id": "oLr4UZHOD95V",
        "colab_type": "code",
        "outputId": "c58675f6-2685-4412-ab0f-1095d4f38b57",
        "colab": {
          "base_uri": "https://localhost:8080/",
          "height": 214
        }
      },
      "source": [
        "# this model maps an input to its encoded representation\n",
        "encoder = Model(input_img, encoded)\n",
        "encoder.summary()"
      ],
      "execution_count": 0,
      "outputs": [
        {
          "output_type": "stream",
          "text": [
            "_________________________________________________________________\n",
            "Layer (type)                 Output Shape              Param #   \n",
            "=================================================================\n",
            "input_1 (InputLayer)         (None, 784)               0         \n",
            "_________________________________________________________________\n",
            "dense_1 (Dense)              (None, 32)                25120     \n",
            "=================================================================\n",
            "Total params: 25,120\n",
            "Trainable params: 25,120\n",
            "Non-trainable params: 0\n",
            "_________________________________________________________________\n"
          ],
          "name": "stdout"
        }
      ]
    },
    {
      "cell_type": "code",
      "metadata": {
        "id": "IfX5OE6SEBS1",
        "colab_type": "code",
        "colab": {}
      },
      "source": [
        "encoded_input = Input(shape=(encoding_dim,))\n",
        "decoder_layer = autoencoder.layers[-1]\n",
        "decoder = Model(encoded_input, decoder_layer(encoded_input))"
      ],
      "execution_count": 0,
      "outputs": []
    },
    {
      "cell_type": "code",
      "metadata": {
        "id": "WvpsPhnbEqty",
        "colab_type": "code",
        "outputId": "23646a1e-f5bc-4730-b679-4f01c33f1bbe",
        "colab": {
          "base_uri": "https://localhost:8080/",
          "height": 214
        }
      },
      "source": [
        "decoder.summary()"
      ],
      "execution_count": 0,
      "outputs": [
        {
          "output_type": "stream",
          "text": [
            "_________________________________________________________________\n",
            "Layer (type)                 Output Shape              Param #   \n",
            "=================================================================\n",
            "input_2 (InputLayer)         (None, 32)                0         \n",
            "_________________________________________________________________\n",
            "dense_2 (Dense)              (None, 784)               25872     \n",
            "=================================================================\n",
            "Total params: 25,872\n",
            "Trainable params: 25,872\n",
            "Non-trainable params: 0\n",
            "_________________________________________________________________\n"
          ],
          "name": "stdout"
        }
      ]
    },
    {
      "cell_type": "code",
      "metadata": {
        "id": "W_7g546LECm1",
        "colab_type": "code",
        "outputId": "a6bee46d-5553-49e5-e168-327297486d0c",
        "colab": {
          "base_uri": "https://localhost:8080/",
          "height": 162
        }
      },
      "source": [
        "autoencoder.compile(optimizer='adadelta', loss='binary_crossentropy')"
      ],
      "execution_count": 0,
      "outputs": [
        {
          "output_type": "stream",
          "text": [
            "W0712 07:27:55.593983 139625664034688 deprecation_wrapper.py:119] From /usr/local/lib/python2.7/dist-packages/keras/optimizers.py:790: The name tf.train.Optimizer is deprecated. Please use tf.compat.v1.train.Optimizer instead.\n",
            "\n",
            "W0712 07:27:55.619797 139625664034688 deprecation_wrapper.py:119] From /usr/local/lib/python2.7/dist-packages/keras/backend/tensorflow_backend.py:3376: The name tf.log is deprecated. Please use tf.math.log instead.\n",
            "\n",
            "W0712 07:27:55.625797 139625664034688 deprecation.py:323] From /usr/local/lib/python2.7/dist-packages/tensorflow/python/ops/nn_impl.py:180: where (from tensorflow.python.ops.array_ops) is deprecated and will be removed in a future version.\n",
            "Instructions for updating:\n",
            "Use tf.where in 2.0, which has the same broadcast rule as np.where\n"
          ],
          "name": "stderr"
        }
      ]
    },
    {
      "cell_type": "code",
      "metadata": {
        "id": "d_jn9w5KE9tk",
        "colab_type": "code",
        "outputId": "a66be767-4f55-43e1-ad0d-fcad8a060a55",
        "colab": {
          "base_uri": "https://localhost:8080/",
          "height": 71
        }
      },
      "source": [
        "from keras.datasets import mnist\n",
        "import numpy as np\n",
        "(x_train, _), (x_test, _) = mnist.load_data()"
      ],
      "execution_count": 0,
      "outputs": [
        {
          "output_type": "stream",
          "text": [
            "Downloading data from https://s3.amazonaws.com/img-datasets/mnist.npz\n",
            "11493376/11490434 [==============================] - 2s 0us/step\n",
            "11501568/11490434 [==============================] - 2s 0us/step\n"
          ],
          "name": "stdout"
        }
      ]
    },
    {
      "cell_type": "code",
      "metadata": {
        "id": "jEUBYMkzE_98",
        "colab_type": "code",
        "outputId": "e2af8ec7-0389-42c0-ae0d-ceadb80f88e8",
        "colab": {
          "base_uri": "https://localhost:8080/",
          "height": 53
        }
      },
      "source": [
        "x_train = x_train.astype('float32') / 255. # normalization/ x_train.shape = (60000, 28, 28, 1)\n",
        "x_test = x_test.astype('float32') / 255. # normalization/ x_test.shape = (10000, 28, 28, 1)\n",
        "x_train = x_train.reshape((len(x_train), np.prod(x_train.shape[1:]))) # np.prod(x_train.shape[1:]) == 28*28*1/ flatten과 동일한 효과\n",
        "x_test = x_test.reshape((len(x_test), np.prod(x_test.shape[1:]))) # np.prod(x_train.shape[1:]) == 28*28*1/ flatten과 동일한 효과\n",
        "print x_train.shape\n",
        "print x_test.shape"
      ],
      "execution_count": 0,
      "outputs": [
        {
          "output_type": "stream",
          "text": [
            "(60000, 784)\n",
            "(10000, 784)\n"
          ],
          "name": "stdout"
        }
      ]
    },
    {
      "cell_type": "code",
      "metadata": {
        "id": "YOGGWe5bFBv9",
        "colab_type": "code",
        "colab": {}
      },
      "source": [
        "autoencoder.fit(x_train, x_train,\n",
        "                epochs=50,\n",
        "                batch_size=256, # 한 번에 256장 학습, 평균 loss값을 구해 backpropagation, 작을수록 학습이 잘 되는 경향(대게 최소 16)\n",
        "                shuffle=True,\n",
        "                validation_data=(x_test, x_test))"
      ],
      "execution_count": 0,
      "outputs": []
    },
    {
      "cell_type": "code",
      "metadata": {
        "id": "8_gFNF5qFCyM",
        "colab_type": "code",
        "colab": {}
      },
      "source": [
        "encoded_imgs = encoder.predict(x_test)\n",
        "decoded_imgs = decoder.predict(encoded_imgs)"
      ],
      "execution_count": 0,
      "outputs": []
    },
    {
      "cell_type": "code",
      "metadata": {
        "id": "5tXxe68cGEbE",
        "colab_type": "code",
        "outputId": "c3d2fdd0-96ad-4b00-a455-8fee6fed19b1",
        "colab": {
          "base_uri": "https://localhost:8080/",
          "height": 271
        }
      },
      "source": [
        "# use Matplotlib (don't ask)\n",
        "import matplotlib.pyplot as plt\n",
        "\n",
        "n = 10  # how many digits we will display\n",
        "plt.figure(figsize=(20, 4))\n",
        "for i in range(n):\n",
        "    # display original\n",
        "    ax = plt.subplot(2, n, i + 1)\n",
        "    plt.imshow(x_test[i].reshape(28, 28))\n",
        "    plt.gray()\n",
        "    ax.get_xaxis().set_visible(False)\n",
        "    ax.get_yaxis().set_visible(False)\n",
        "\n",
        "    # display reconstruction\n",
        "    ax = plt.subplot(2, n, i + 1 + n)\n",
        "    plt.imshow(decoded_imgs[i].reshape(28, 28))\n",
        "    plt.gray()\n",
        "    ax.get_xaxis().set_visible(False)\n",
        "    ax.get_yaxis().set_visible(False)\n",
        "plt.show()"
      ],
      "execution_count": 0,
      "outputs": [
        {
          "output_type": "display_data",
          "data": {
            "image/png": "[encoded data removed]",
            "text/plain": [
              "<Figure size 1440x288 with 20 Axes>"
            ]
          },
          "metadata": {
            "tags": []
          }
        }
      ]
    },
    {
      "cell_type": "markdown",
      "metadata": {
        "id": "-r8UDxqAG9Pi",
        "colab_type": "text"
      },
      "source": [
        "Deep autoencoder by stack dense layers"
      ]
    },
    {
      "cell_type": "code",
      "metadata": {
        "id": "7mfcVlJIHDZZ",
        "colab_type": "code",
        "colab": {}
      },
      "source": [
        "input_img = Input(shape=(784,))\n",
        "encoded = Dense(128, activation='relu')(input_img)\n",
        "encoded = Dense(64, activation='relu')(encoded)\n",
        "encoded = Dense(32, activation='relu')(encoded)\n",
        "\n",
        "decoded = Dense(64, activation='relu')(encoded)\n",
        "decoded = Dense(128, activation='relu')(decoded)\n",
        "decoded = Dense(784, activation='sigmoid')(decoded)"
      ],
      "execution_count": 0,
      "outputs": []
    },
    {
      "cell_type": "code",
      "metadata": {
        "id": "2HHBTNdSHErj",
        "colab_type": "code",
        "outputId": "e752c629-d2c6-46ad-aaaa-3fae63510225",
        "colab": {
          "base_uri": "https://localhost:8080/",
          "height": 1000
        }
      },
      "source": [
        "autoencoder = Model(input_img, decoded)\n",
        "autoencoder.compile(optimizer='adadelta', loss='binary_crossentropy')\n",
        "\n",
        "autoencoder.fit(x_train, x_train,\n",
        "                epochs=100,\n",
        "                batch_size=256,\n",
        "                shuffle=True,\n",
        "                validation_data=(x_test, x_test))"
      ],
      "execution_count": 0,
      "outputs": [
        {
          "output_type": "stream",
          "text": [
            "Train on 60000 samples, validate on 10000 samples\n",
            "Epoch 1/100\n",
            "60000/60000 [==============================] - 2s 30us/step - loss: 0.3429 - val_loss: 0.2629\n",
            "Epoch 2/100\n",
            "60000/60000 [==============================] - 1s 23us/step - loss: 0.2581 - val_loss: 0.2526\n",
            "Epoch 3/100\n",
            "60000/60000 [==============================] - 1s 22us/step - loss: 0.2422 - val_loss: 0.2282\n",
            "Epoch 4/100\n",
            "60000/60000 [==============================] - 1s 22us/step - loss: 0.2222 - val_loss: 0.2169\n",
            "Epoch 5/100\n",
            "60000/60000 [==============================] - 1s 22us/step - loss: 0.2117 - val_loss: 0.2040\n",
            "Epoch 6/100\n",
            "60000/60000 [==============================] - 1s 22us/step - loss: 0.1973 - val_loss: 0.1909\n",
            "Epoch 7/100\n",
            "60000/60000 [==============================] - 1s 22us/step - loss: 0.1869 - val_loss: 0.1828\n",
            "Epoch 8/100\n",
            "60000/60000 [==============================] - 1s 22us/step - loss: 0.1794 - val_loss: 0.1743\n",
            "Epoch 9/100\n",
            "60000/60000 [==============================] - 1s 22us/step - loss: 0.1718 - val_loss: 0.1687\n",
            "Epoch 10/100\n",
            "60000/60000 [==============================] - 1s 22us/step - loss: 0.1661 - val_loss: 0.1628\n",
            "Epoch 11/100\n",
            "60000/60000 [==============================] - 1s 22us/step - loss: 0.1616 - val_loss: 0.1581\n",
            "Epoch 12/100\n",
            "60000/60000 [==============================] - 1s 22us/step - loss: 0.1578 - val_loss: 0.1561\n",
            "Epoch 13/100\n",
            "60000/60000 [==============================] - 1s 22us/step - loss: 0.1542 - val_loss: 0.1519\n",
            "Epoch 14/100\n",
            "60000/60000 [==============================] - 1s 22us/step - loss: 0.1511 - val_loss: 0.1477\n",
            "Epoch 15/100\n",
            "60000/60000 [==============================] - 1s 22us/step - loss: 0.1484 - val_loss: 0.1448\n",
            "Epoch 16/100\n",
            "60000/60000 [==============================] - 1s 22us/step - loss: 0.1460 - val_loss: 0.1438\n",
            "Epoch 17/100\n",
            "60000/60000 [==============================] - 1s 22us/step - loss: 0.1437 - val_loss: 0.1431\n",
            "Epoch 18/100\n",
            "60000/60000 [==============================] - 1s 22us/step - loss: 0.1415 - val_loss: 0.1390\n",
            "Epoch 19/100\n",
            "60000/60000 [==============================] - 1s 22us/step - loss: 0.1396 - val_loss: 0.1363\n",
            "Epoch 20/100\n",
            "60000/60000 [==============================] - 1s 22us/step - loss: 0.1377 - val_loss: 0.1352\n",
            "Epoch 21/100\n",
            "60000/60000 [==============================] - 1s 22us/step - loss: 0.1358 - val_loss: 0.1335\n",
            "Epoch 22/100\n",
            "60000/60000 [==============================] - 1s 22us/step - loss: 0.1342 - val_loss: 0.1344\n",
            "Epoch 23/100\n",
            "60000/60000 [==============================] - 1s 22us/step - loss: 0.1328 - val_loss: 0.1332\n",
            "Epoch 24/100\n",
            "60000/60000 [==============================] - 1s 21us/step - loss: 0.1314 - val_loss: 0.1281\n",
            "Epoch 25/100\n",
            "60000/60000 [==============================] - 1s 22us/step - loss: 0.1300 - val_loss: 0.1282\n",
            "Epoch 26/100\n",
            "60000/60000 [==============================] - 1s 22us/step - loss: 0.1287 - val_loss: 0.1268\n",
            "Epoch 27/100\n",
            "60000/60000 [==============================] - 1s 22us/step - loss: 0.1274 - val_loss: 0.1248\n",
            "Epoch 28/100\n",
            "60000/60000 [==============================] - 1s 22us/step - loss: 0.1262 - val_loss: 0.1228\n",
            "Epoch 29/100\n",
            "60000/60000 [==============================] - 1s 22us/step - loss: 0.1252 - val_loss: 0.1239\n",
            "Epoch 30/100\n",
            "60000/60000 [==============================] - 1s 22us/step - loss: 0.1240 - val_loss: 0.1235\n",
            "Epoch 31/100\n",
            "60000/60000 [==============================] - 1s 22us/step - loss: 0.1230 - val_loss: 0.1214\n",
            "Epoch 32/100\n",
            "60000/60000 [==============================] - 1s 22us/step - loss: 0.1223 - val_loss: 0.1199\n",
            "Epoch 33/100\n",
            "60000/60000 [==============================] - 1s 22us/step - loss: 0.1215 - val_loss: 0.1187\n",
            "Epoch 34/100\n",
            "60000/60000 [==============================] - 1s 22us/step - loss: 0.1206 - val_loss: 0.1186\n",
            "Epoch 35/100\n",
            "60000/60000 [==============================] - 1s 22us/step - loss: 0.1201 - val_loss: 0.1191\n",
            "Epoch 36/100\n",
            "60000/60000 [==============================] - 1s 22us/step - loss: 0.1193 - val_loss: 0.1175\n",
            "Epoch 37/100\n",
            "60000/60000 [==============================] - 1s 22us/step - loss: 0.1187 - val_loss: 0.1177\n",
            "Epoch 38/100\n",
            "60000/60000 [==============================] - 1s 22us/step - loss: 0.1181 - val_loss: 0.1153\n",
            "Epoch 39/100\n",
            "60000/60000 [==============================] - 1s 22us/step - loss: 0.1174 - val_loss: 0.1174\n",
            "Epoch 40/100\n",
            "60000/60000 [==============================] - 1s 22us/step - loss: 0.1170 - val_loss: 0.1144\n",
            "Epoch 41/100\n",
            "60000/60000 [==============================] - 1s 22us/step - loss: 0.1164 - val_loss: 0.1151\n",
            "Epoch 42/100\n",
            "60000/60000 [==============================] - 1s 22us/step - loss: 0.1158 - val_loss: 0.1146\n",
            "Epoch 43/100\n",
            "60000/60000 [==============================] - 1s 22us/step - loss: 0.1154 - val_loss: 0.1150\n",
            "Epoch 44/100\n",
            "60000/60000 [==============================] - 1s 22us/step - loss: 0.1148 - val_loss: 0.1143\n",
            "Epoch 45/100\n",
            "60000/60000 [==============================] - 1s 22us/step - loss: 0.1145 - val_loss: 0.1121\n",
            "Epoch 46/100\n",
            "60000/60000 [==============================] - 1s 22us/step - loss: 0.1139 - val_loss: 0.1131\n",
            "Epoch 47/100\n",
            "60000/60000 [==============================] - 1s 22us/step - loss: 0.1135 - val_loss: 0.1120\n",
            "Epoch 48/100\n",
            "60000/60000 [==============================] - 1s 22us/step - loss: 0.1132 - val_loss: 0.1126\n",
            "Epoch 49/100\n",
            "60000/60000 [==============================] - 1s 22us/step - loss: 0.1128 - val_loss: 0.1103\n",
            "Epoch 50/100\n",
            "60000/60000 [==============================] - 1s 23us/step - loss: 0.1123 - val_loss: 0.1108\n",
            "Epoch 51/100\n",
            "60000/60000 [==============================] - 1s 23us/step - loss: 0.1119 - val_loss: 0.1106\n",
            "Epoch 52/100\n",
            "60000/60000 [==============================] - 1s 24us/step - loss: 0.1116 - val_loss: 0.1109\n",
            "Epoch 53/100\n",
            "60000/60000 [==============================] - 1s 25us/step - loss: 0.1111 - val_loss: 0.1095\n",
            "Epoch 54/100\n",
            "60000/60000 [==============================] - 1s 23us/step - loss: 0.1108 - val_loss: 0.1099\n",
            "Epoch 55/100\n",
            "60000/60000 [==============================] - 1s 24us/step - loss: 0.1104 - val_loss: 0.1095\n",
            "Epoch 56/100\n",
            "60000/60000 [==============================] - 1s 23us/step - loss: 0.1101 - val_loss: 0.1103\n",
            "Epoch 57/100\n",
            "60000/60000 [==============================] - 1s 22us/step - loss: 0.1097 - val_loss: 0.1088\n",
            "Epoch 58/100\n",
            "60000/60000 [==============================] - 1s 22us/step - loss: 0.1094 - val_loss: 0.1076\n",
            "Epoch 59/100\n",
            "60000/60000 [==============================] - 1s 22us/step - loss: 0.1091 - val_loss: 0.1074\n",
            "Epoch 60/100\n",
            "60000/60000 [==============================] - 1s 22us/step - loss: 0.1087 - val_loss: 0.1067\n",
            "Epoch 61/100\n",
            "60000/60000 [==============================] - 1s 22us/step - loss: 0.1085 - val_loss: 0.1070\n",
            "Epoch 62/100\n",
            "60000/60000 [==============================] - 1s 22us/step - loss: 0.1081 - val_loss: 0.1071\n",
            "Epoch 63/100\n",
            "60000/60000 [==============================] - 1s 22us/step - loss: 0.1077 - val_loss: 0.1067\n",
            "Epoch 64/100\n",
            "60000/60000 [==============================] - 1s 22us/step - loss: 0.1074 - val_loss: 0.1058\n",
            "Epoch 65/100\n",
            "60000/60000 [==============================] - 1s 22us/step - loss: 0.1071 - val_loss: 0.1044\n",
            "Epoch 66/100\n",
            "60000/60000 [==============================] - 1s 22us/step - loss: 0.1068 - val_loss: 0.1060\n",
            "Epoch 67/100\n",
            "60000/60000 [==============================] - 1s 22us/step - loss: 0.1063 - val_loss: 0.1060\n",
            "Epoch 68/100\n",
            "60000/60000 [==============================] - 1s 22us/step - loss: 0.1061 - val_loss: 0.1044\n",
            "Epoch 69/100\n",
            "60000/60000 [==============================] - 1s 22us/step - loss: 0.1058 - val_loss: 0.1055\n",
            "Epoch 70/100\n",
            "60000/60000 [==============================] - 1s 22us/step - loss: 0.1055 - val_loss: 0.1048\n",
            "Epoch 71/100\n",
            "60000/60000 [==============================] - 1s 22us/step - loss: 0.1051 - val_loss: 0.1037\n",
            "Epoch 72/100\n",
            "60000/60000 [==============================] - 1s 22us/step - loss: 0.1049 - val_loss: 0.1041\n",
            "Epoch 73/100\n",
            "60000/60000 [==============================] - 1s 22us/step - loss: 0.1045 - val_loss: 0.1024\n",
            "Epoch 74/100\n",
            "60000/60000 [==============================] - 1s 22us/step - loss: 0.1043 - val_loss: 0.1029\n",
            "Epoch 75/100\n",
            "60000/60000 [==============================] - 1s 22us/step - loss: 0.1039 - val_loss: 0.1033\n",
            "Epoch 76/100\n",
            "60000/60000 [==============================] - 1s 22us/step - loss: 0.1038 - val_loss: 0.1024\n",
            "Epoch 77/100\n",
            "60000/60000 [==============================] - 1s 22us/step - loss: 0.1035 - val_loss: 0.1013\n",
            "Epoch 78/100\n",
            "60000/60000 [==============================] - 1s 22us/step - loss: 0.1033 - val_loss: 0.1033\n",
            "Epoch 79/100\n",
            "60000/60000 [==============================] - 1s 22us/step - loss: 0.1029 - val_loss: 0.1020\n",
            "Epoch 80/100\n",
            "60000/60000 [==============================] - 1s 22us/step - loss: 0.1029 - val_loss: 0.1014\n",
            "Epoch 81/100\n",
            "60000/60000 [==============================] - 1s 22us/step - loss: 0.1025 - val_loss: 0.1035\n",
            "Epoch 82/100\n",
            "60000/60000 [==============================] - 1s 22us/step - loss: 0.1023 - val_loss: 0.1019\n",
            "Epoch 83/100\n",
            "60000/60000 [==============================] - 1s 21us/step - loss: 0.1021 - val_loss: 0.1017\n",
            "Epoch 84/100\n",
            "60000/60000 [==============================] - 1s 21us/step - loss: 0.1019 - val_loss: 0.1021\n",
            "Epoch 85/100\n",
            "60000/60000 [==============================] - 1s 22us/step - loss: 0.1017 - val_loss: 0.0995\n",
            "Epoch 86/100\n",
            "60000/60000 [==============================] - 1s 22us/step - loss: 0.1015 - val_loss: 0.1004\n",
            "Epoch 87/100\n",
            "60000/60000 [==============================] - 1s 22us/step - loss: 0.1014 - val_loss: 0.0991\n",
            "Epoch 88/100\n",
            "60000/60000 [==============================] - 1s 22us/step - loss: 0.1012 - val_loss: 0.1011\n",
            "Epoch 89/100\n",
            "60000/60000 [==============================] - 1s 22us/step - loss: 0.1010 - val_loss: 0.0998\n",
            "Epoch 90/100\n",
            "60000/60000 [==============================] - 1s 21us/step - loss: 0.1008 - val_loss: 0.0997\n",
            "Epoch 91/100\n",
            "60000/60000 [==============================] - 1s 21us/step - loss: 0.1006 - val_loss: 0.0998\n",
            "Epoch 92/100\n",
            "60000/60000 [==============================] - 1s 22us/step - loss: 0.1005 - val_loss: 0.0992\n",
            "Epoch 93/100\n",
            "60000/60000 [==============================] - 1s 21us/step - loss: 0.1003 - val_loss: 0.0990\n",
            "Epoch 94/100\n",
            "60000/60000 [==============================] - 1s 22us/step - loss: 0.1001 - val_loss: 0.0986\n",
            "Epoch 95/100\n",
            "60000/60000 [==============================] - 1s 22us/step - loss: 0.1000 - val_loss: 0.0991\n",
            "Epoch 96/100\n",
            "60000/60000 [==============================] - 1s 22us/step - loss: 0.0999 - val_loss: 0.0999\n",
            "Epoch 97/100\n",
            "60000/60000 [==============================] - 1s 22us/step - loss: 0.0998 - val_loss: 0.0991\n",
            "Epoch 98/100\n",
            "60000/60000 [==============================] - 1s 21us/step - loss: 0.0996 - val_loss: 0.0988\n",
            "Epoch 99/100\n",
            "60000/60000 [==============================] - 1s 21us/step - loss: 0.0994 - val_loss: 0.0999\n",
            "Epoch 100/100\n",
            "60000/60000 [==============================] - 1s 21us/step - loss: 0.0994 - val_loss: 0.0984\n"
          ],
          "name": "stdout"
        },
        {
          "output_type": "execute_result",
          "data": {
            "text/plain": [
              "<keras.callbacks.History at 0x7efcd93dc3d0>"
            ]
          },
          "metadata": {
            "tags": []
          },
          "execution_count": 13
        }
      ]
    },
    {
      "cell_type": "code",
      "metadata": {
        "id": "RdsmbrB-HF7D",
        "colab_type": "code",
        "outputId": "612d726d-451b-4bad-c398-d7ed8ca7f210",
        "colab": {
          "base_uri": "https://localhost:8080/",
          "height": 271
        }
      },
      "source": [
        "# use Matplotlib (don't ask)\n",
        "import matplotlib.pyplot as plt\n",
        "\n",
        "n = 10  # how many digits we will display\n",
        "plt.figure(figsize=(20, 4))\n",
        "for i in range(n):\n",
        "    # display original\n",
        "    ax = plt.subplot(2, n, i + 1)\n",
        "    plt.imshow(x_test[i].reshape(28, 28))\n",
        "    plt.gray()\n",
        "    ax.get_xaxis().set_visible(False)\n",
        "    ax.get_yaxis().set_visible(False)\n",
        "\n",
        "    # display reconstruction\n",
        "    ax = plt.subplot(2, n, i + 1 + n)\n",
        "    plt.imshow(decoded_imgs[i].reshape(28, 28))\n",
        "    plt.gray()\n",
        "    ax.get_xaxis().set_visible(False)\n",
        "    ax.get_yaxis().set_visible(False)\n",
        "plt.show()"
      ],
      "execution_count": 0,
      "outputs": [
        {
          "output_type": "display_data",
          "data": {
            "image/png": "[encoded data removed]",
            "text/plain": [
              "<Figure size 1440x288 with 20 Axes>"
            ]
          },
          "metadata": {
            "tags": []
          }
        }
      ]
    }
  ]
}
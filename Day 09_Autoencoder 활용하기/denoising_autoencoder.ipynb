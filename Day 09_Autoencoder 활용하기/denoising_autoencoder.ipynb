{
  "nbformat": 4,
  "nbformat_minor": 0,
  "metadata": {
    "colab": {
      "name": "denoising_autoencoder.ipynb",
      "provenance": [],
      "collapsed_sections": [],
      "include_colab_link": true
    },
    "kernelspec": {
      "name": "python2",
      "display_name": "Python 2"
    },
    "accelerator": "GPU"
  },
  "cells": [
    {
      "cell_type": "markdown",
      "metadata": {
        "id": "view-in-github",
        "colab_type": "text"
      },
      "source": [
        "<a href=\"https://colab.research.google.com/github/YoonSungLee/AI-Innovation-Square_Vision/blob/master/Day%209_Autoencoder%20%ED%99%9C%EC%9A%A9%ED%95%98%EA%B8%B0/denoising_autoencoder.ipynb\" target=\"_parent\"><img src=\"https://colab.research.google.com/assets/colab-badge.svg\" alt=\"Open In Colab\"/></a>"
      ]
    },
    {
      "cell_type": "code",
      "metadata": {
        "id": "bkukBHrpK62y",
        "colab_type": "code",
        "outputId": "8001c7e9-28e8-4365-e1b9-e2209f2e646e",
        "colab": {
          "base_uri": "https://localhost:8080/",
          "height": 35
        }
      },
      "source": [
        "from keras.datasets import mnist\n",
        "import numpy as np\n",
        "\n",
        "(x_train, _), (x_test, _) = mnist.load_data()\n",
        "\n",
        "x_train = x_train.astype('float32') / 255.\n",
        "x_test = x_test.astype('float32') / 255.\n",
        "x_train = np.reshape(x_train, (len(x_train), 28, 28, 1))  # adapt this if using `channels_first` image data format\n",
        "x_test = np.reshape(x_test, (len(x_test), 28, 28, 1))  # adapt this if using `channels_first` image data format\n",
        "\n",
        "\n",
        "# np.random.normal(mean, std, N) : 평균이 mean이고 표준편차가 std인 데이터 N개 생성\n",
        "noise_factor = 0.5\n",
        "x_train_noisy = x_train + noise_factor * np.random.normal(loc=0.0, scale=1.0, size=x_train.shape) \n",
        "x_test_noisy = x_test + noise_factor * np.random.normal(loc=0.0, scale=1.0, size=x_test.shape) \n",
        "\n",
        "x_train_noisy = np.clip(x_train_noisy, 0., 1.) # np.clip(data, 하한, 상한) : data를 하한과 상한 사이의 값으로 변환\n",
        "x_test_noisy = np.clip(x_test_noisy, 0., 1.) # np.clip(data, 하한, 상한) : data를 하한과 상한 사이의 값으로 변환"
      ],
      "execution_count": 0,
      "outputs": [
        {
          "output_type": "stream",
          "text": [
            "Using TensorFlow backend.\n"
          ],
          "name": "stderr"
        }
      ]
    },
    {
      "cell_type": "code",
      "metadata": {
        "id": "nPDQ0f8vK7iD",
        "colab_type": "code",
        "outputId": "39f869a2-bf96-45c2-fa57-72ad725661e9",
        "colab": {
          "base_uri": "https://localhost:8080/",
          "height": 152
        }
      },
      "source": [
        "# use Matplotlib (don't ask)\n",
        "import matplotlib.pyplot as plt\n",
        "\n",
        "n = 10  # how many digits we will display\n",
        "plt.figure(figsize=(20, 4))\n",
        "for i in range(n):\n",
        "    # display original\n",
        "    ax = plt.subplot(2, n, i + 1)\n",
        "    plt.imshow(x_test_noisy[i].reshape(28, 28))\n",
        "    plt.gray()\n",
        "    ax.get_xaxis().set_visible(False)\n",
        "    ax.get_yaxis().set_visible(False)"
      ],
      "execution_count": 0,
      "outputs": [
        {
          "output_type": "display_data",
          "data": {
            "image/png": "[encoded data removed]",
            "text/plain": [
              "<Figure size 1440x288 with 10 Axes>"
            ]
          },
          "metadata": {
            "tags": []
          }
        }
      ]
    },
    {
      "cell_type": "code",
      "metadata": {
        "id": "vn_3qQYkLHii",
        "colab_type": "code",
        "outputId": "848f58b7-7522-445b-f462-5d804f1be8ee",
        "colab": {
          "base_uri": "https://localhost:8080/",
          "height": 359
        }
      },
      "source": [
        "from keras.layers import Input, Dense, Conv2D, MaxPooling2D, UpSampling2D\n",
        "from keras.models import Model\n",
        "from keras import backend as K\n",
        "\n",
        "input_img = Input(shape=(28, 28, 1))  # adapt this if using `channels_first` image data format\n",
        "\n",
        "# N, 28, 28, 1\n",
        "x = Conv2D(32, (3, 3), activation='relu', padding='same')(input_img)\n",
        "# N, 28, 28, 32\n",
        "x = MaxPooling2D((2, 2), padding='same')(x)\n",
        "# N, 14, 14, 32\n",
        "x = Conv2D(32, (3, 3), activation='relu', padding='same')(x)\n",
        "# N, 14, 14, 32\n",
        "encoded = MaxPooling2D((2, 2), padding='same')(x)\n",
        "# N, 7, 7, 32\n",
        "\n",
        "# at this point the representation is (7, 7, 32)\n",
        "\n",
        "x = Conv2D(32, (3, 3), activation='relu', padding='same')(encoded)\n",
        "# N, 7, 7, 32\n",
        "x = UpSampling2D((2, 2))(x)\n",
        "# N, 14, 14, 32\n",
        "x = Conv2D(32, (3, 3), activation='relu', padding='same')(x)\n",
        "# N, 14, 14, 32\n",
        "x = UpSampling2D((2, 2))(x)\n",
        "# N, 28, 28, 32\n",
        "decoded = Conv2D(1, (3, 3), activation='sigmoid', padding='same')(x)\n",
        "# N, 28, 28, 1\n",
        "\n",
        "autoencoder = Model(input_img, decoded)\n",
        "autoencoder.compile(optimizer='adadelta', loss='binary_crossentropy')"
      ],
      "execution_count": 0,
      "outputs": [
        {
          "output_type": "stream",
          "text": [
            "WARNING: Logging before flag parsing goes to stderr.\n",
            "W0712 07:56:10.804126 139954493970304 deprecation_wrapper.py:119] From /usr/local/lib/python2.7/dist-packages/keras/backend/tensorflow_backend.py:74: The name tf.get_default_graph is deprecated. Please use tf.compat.v1.get_default_graph instead.\n",
            "\n",
            "W0712 07:56:10.823952 139954493970304 deprecation_wrapper.py:119] From /usr/local/lib/python2.7/dist-packages/keras/backend/tensorflow_backend.py:517: The name tf.placeholder is deprecated. Please use tf.compat.v1.placeholder instead.\n",
            "\n",
            "W0712 07:56:10.827231 139954493970304 deprecation_wrapper.py:119] From /usr/local/lib/python2.7/dist-packages/keras/backend/tensorflow_backend.py:4138: The name tf.random_uniform is deprecated. Please use tf.random.uniform instead.\n",
            "\n",
            "W0712 07:56:10.846605 139954493970304 deprecation_wrapper.py:119] From /usr/local/lib/python2.7/dist-packages/keras/backend/tensorflow_backend.py:3976: The name tf.nn.max_pool is deprecated. Please use tf.nn.max_pool2d instead.\n",
            "\n",
            "W0712 07:56:10.883203 139954493970304 deprecation_wrapper.py:119] From /usr/local/lib/python2.7/dist-packages/keras/backend/tensorflow_backend.py:2018: The name tf.image.resize_nearest_neighbor is deprecated. Please use tf.compat.v1.image.resize_nearest_neighbor instead.\n",
            "\n",
            "W0712 07:56:10.915122 139954493970304 deprecation_wrapper.py:119] From /usr/local/lib/python2.7/dist-packages/keras/optimizers.py:790: The name tf.train.Optimizer is deprecated. Please use tf.compat.v1.train.Optimizer instead.\n",
            "\n",
            "W0712 07:56:10.930268 139954493970304 deprecation_wrapper.py:119] From /usr/local/lib/python2.7/dist-packages/keras/backend/tensorflow_backend.py:3376: The name tf.log is deprecated. Please use tf.math.log instead.\n",
            "\n",
            "W0712 07:56:10.936542 139954493970304 deprecation.py:323] From /usr/local/lib/python2.7/dist-packages/tensorflow/python/ops/nn_impl.py:180: where (from tensorflow.python.ops.array_ops) is deprecated and will be removed in a future version.\n",
            "Instructions for updating:\n",
            "Use tf.where in 2.0, which has the same broadcast rule as np.where\n"
          ],
          "name": "stderr"
        }
      ]
    },
    {
      "cell_type": "code",
      "metadata": {
        "id": "DdgKRwH3Lboy",
        "colab_type": "code",
        "outputId": "d7557726-6bf9-4abf-d808-259199981f2c",
        "colab": {
          "base_uri": "https://localhost:8080/",
          "height": 1000
        }
      },
      "source": [
        "autoencoder.fit(x_train_noisy, x_train,\n",
        "                epochs=100,\n",
        "                batch_size=128,\n",
        "                shuffle=True,\n",
        "                validation_data=(x_test_noisy, x_test))"
      ],
      "execution_count": 0,
      "outputs": [
        {
          "output_type": "stream",
          "text": [
            "W0712 07:56:11.167679 139954493970304 deprecation_wrapper.py:119] From /usr/local/lib/python2.7/dist-packages/keras/backend/tensorflow_backend.py:986: The name tf.assign_add is deprecated. Please use tf.compat.v1.assign_add instead.\n",
            "\n"
          ],
          "name": "stderr"
        },
        {
          "output_type": "stream",
          "text": [
            "Train on 60000 samples, validate on 10000 samples\n",
            "Epoch 1/100\n",
            "60000/60000 [==============================] - 6s 103us/step - loss: 0.1763 - val_loss: 0.1287\n",
            "Epoch 2/100\n",
            "60000/60000 [==============================] - 4s 62us/step - loss: 0.1192 - val_loss: 0.1142\n",
            "Epoch 3/100\n",
            "60000/60000 [==============================] - 4s 62us/step - loss: 0.1117 - val_loss: 0.1088\n",
            "Epoch 4/100\n",
            "60000/60000 [==============================] - 4s 63us/step - loss: 0.1080 - val_loss: 0.1064\n",
            "Epoch 5/100\n",
            "60000/60000 [==============================] - 4s 60us/step - loss: 0.1056 - val_loss: 0.1037\n",
            "Epoch 6/100\n",
            "60000/60000 [==============================] - 4s 60us/step - loss: 0.1041 - val_loss: 0.1024\n",
            "Epoch 7/100\n",
            "60000/60000 [==============================] - 4s 61us/step - loss: 0.1027 - val_loss: 0.1002\n",
            "Epoch 8/100\n",
            "60000/60000 [==============================] - 4s 61us/step - loss: 0.1019 - val_loss: 0.1007\n",
            "Epoch 9/100\n",
            "60000/60000 [==============================] - 4s 61us/step - loss: 0.1012 - val_loss: 0.1002\n",
            "Epoch 10/100\n",
            "60000/60000 [==============================] - 4s 61us/step - loss: 0.1004 - val_loss: 0.1000\n",
            "Epoch 11/100\n",
            "60000/60000 [==============================] - 4s 61us/step - loss: 0.1002 - val_loss: 0.0994\n",
            "Epoch 12/100\n",
            "60000/60000 [==============================] - 4s 62us/step - loss: 0.0997 - val_loss: 0.0982\n",
            "Epoch 13/100\n",
            "60000/60000 [==============================] - 4s 61us/step - loss: 0.0994 - val_loss: 0.0978\n",
            "Epoch 14/100\n",
            "60000/60000 [==============================] - 4s 60us/step - loss: 0.0990 - val_loss: 0.0977\n",
            "Epoch 15/100\n",
            "60000/60000 [==============================] - 4s 61us/step - loss: 0.0988 - val_loss: 0.0980\n",
            "Epoch 16/100\n",
            "60000/60000 [==============================] - 4s 61us/step - loss: 0.0985 - val_loss: 0.0983\n",
            "Epoch 17/100\n",
            "60000/60000 [==============================] - 4s 60us/step - loss: 0.0983 - val_loss: 0.0998\n",
            "Epoch 18/100\n",
            "60000/60000 [==============================] - 4s 61us/step - loss: 0.0980 - val_loss: 0.0977\n",
            "Epoch 19/100\n",
            "60000/60000 [==============================] - 4s 60us/step - loss: 0.0978 - val_loss: 0.0966\n",
            "Epoch 20/100\n",
            "60000/60000 [==============================] - 4s 60us/step - loss: 0.0977 - val_loss: 0.0967\n",
            "Epoch 21/100\n",
            "60000/60000 [==============================] - 4s 60us/step - loss: 0.0974 - val_loss: 0.0979\n",
            "Epoch 22/100\n",
            "60000/60000 [==============================] - 4s 60us/step - loss: 0.0974 - val_loss: 0.0968\n",
            "Epoch 23/100\n",
            "60000/60000 [==============================] - 4s 60us/step - loss: 0.0972 - val_loss: 0.0965\n",
            "Epoch 24/100\n",
            "60000/60000 [==============================] - 4s 60us/step - loss: 0.0971 - val_loss: 0.0970\n",
            "Epoch 25/100\n",
            "60000/60000 [==============================] - 4s 62us/step - loss: 0.0970 - val_loss: 0.0963\n",
            "Epoch 26/100\n",
            "60000/60000 [==============================] - 4s 60us/step - loss: 0.0968 - val_loss: 0.0959\n",
            "Epoch 27/100\n",
            "60000/60000 [==============================] - 4s 60us/step - loss: 0.0968 - val_loss: 0.0966\n",
            "Epoch 28/100\n",
            "60000/60000 [==============================] - 4s 60us/step - loss: 0.0967 - val_loss: 0.0960\n",
            "Epoch 29/100\n",
            "60000/60000 [==============================] - 4s 60us/step - loss: 0.0965 - val_loss: 0.0975\n",
            "Epoch 30/100\n",
            "60000/60000 [==============================] - 4s 60us/step - loss: 0.0964 - val_loss: 0.0957\n",
            "Epoch 31/100\n",
            "60000/60000 [==============================] - 4s 60us/step - loss: 0.0964 - val_loss: 0.0962\n",
            "Epoch 32/100\n",
            "60000/60000 [==============================] - 4s 60us/step - loss: 0.0963 - val_loss: 0.0964\n",
            "Epoch 33/100\n",
            "60000/60000 [==============================] - 4s 60us/step - loss: 0.0962 - val_loss: 0.0964\n",
            "Epoch 34/100\n",
            "60000/60000 [==============================] - 4s 60us/step - loss: 0.0960 - val_loss: 0.0955\n",
            "Epoch 35/100\n",
            "60000/60000 [==============================] - 4s 60us/step - loss: 0.0960 - val_loss: 0.0952\n",
            "Epoch 36/100\n",
            "60000/60000 [==============================] - 4s 60us/step - loss: 0.0959 - val_loss: 0.0956\n",
            "Epoch 37/100\n",
            "60000/60000 [==============================] - 4s 60us/step - loss: 0.0959 - val_loss: 0.0950\n",
            "Epoch 38/100\n",
            "60000/60000 [==============================] - 4s 60us/step - loss: 0.0958 - val_loss: 0.0951\n",
            "Epoch 39/100\n",
            "60000/60000 [==============================] - 4s 60us/step - loss: 0.0957 - val_loss: 0.0952\n",
            "Epoch 40/100\n",
            "60000/60000 [==============================] - 4s 60us/step - loss: 0.0957 - val_loss: 0.0948\n",
            "Epoch 41/100\n",
            "60000/60000 [==============================] - 4s 60us/step - loss: 0.0957 - val_loss: 0.0949\n",
            "Epoch 42/100\n",
            "60000/60000 [==============================] - 4s 60us/step - loss: 0.0956 - val_loss: 0.0952\n",
            "Epoch 43/100\n",
            "60000/60000 [==============================] - 4s 60us/step - loss: 0.0955 - val_loss: 0.0947\n",
            "Epoch 44/100\n",
            "60000/60000 [==============================] - 4s 60us/step - loss: 0.0955 - val_loss: 0.0947\n",
            "Epoch 45/100\n",
            "60000/60000 [==============================] - 4s 60us/step - loss: 0.0954 - val_loss: 0.0947\n",
            "Epoch 46/100\n",
            "60000/60000 [==============================] - 4s 60us/step - loss: 0.0954 - val_loss: 0.0946\n",
            "Epoch 47/100\n",
            "60000/60000 [==============================] - 4s 59us/step - loss: 0.0953 - val_loss: 0.0951\n",
            "Epoch 48/100\n",
            "60000/60000 [==============================] - 4s 60us/step - loss: 0.0953 - val_loss: 0.0950\n",
            "Epoch 49/100\n",
            "60000/60000 [==============================] - 4s 60us/step - loss: 0.0952 - val_loss: 0.0945\n",
            "Epoch 50/100\n",
            "60000/60000 [==============================] - 4s 60us/step - loss: 0.0952 - val_loss: 0.0948\n",
            "Epoch 51/100\n",
            "60000/60000 [==============================] - 4s 59us/step - loss: 0.0951 - val_loss: 0.0951\n",
            "Epoch 52/100\n",
            "60000/60000 [==============================] - 4s 60us/step - loss: 0.0952 - val_loss: 0.0946\n",
            "Epoch 53/100\n",
            "60000/60000 [==============================] - 4s 59us/step - loss: 0.0951 - val_loss: 0.0948\n",
            "Epoch 54/100\n",
            "60000/60000 [==============================] - 4s 59us/step - loss: 0.0950 - val_loss: 0.0943\n",
            "Epoch 55/100\n",
            "60000/60000 [==============================] - 4s 60us/step - loss: 0.0950 - val_loss: 0.0946\n",
            "Epoch 56/100\n",
            "60000/60000 [==============================] - 4s 60us/step - loss: 0.0949 - val_loss: 0.0942\n",
            "Epoch 57/100\n",
            "60000/60000 [==============================] - 4s 60us/step - loss: 0.0949 - val_loss: 0.0945\n",
            "Epoch 58/100\n",
            "60000/60000 [==============================] - 4s 59us/step - loss: 0.0948 - val_loss: 0.0947\n",
            "Epoch 59/100\n",
            "60000/60000 [==============================] - 4s 59us/step - loss: 0.0948 - val_loss: 0.0942\n",
            "Epoch 60/100\n",
            "60000/60000 [==============================] - 4s 59us/step - loss: 0.0949 - val_loss: 0.0952\n",
            "Epoch 61/100\n",
            "60000/60000 [==============================] - 4s 60us/step - loss: 0.0948 - val_loss: 0.0950\n",
            "Epoch 62/100\n",
            "60000/60000 [==============================] - 4s 60us/step - loss: 0.0948 - val_loss: 0.0943\n",
            "Epoch 63/100\n",
            "60000/60000 [==============================] - 4s 60us/step - loss: 0.0947 - val_loss: 0.0946\n",
            "Epoch 64/100\n",
            "60000/60000 [==============================] - 4s 60us/step - loss: 0.0947 - val_loss: 0.0941\n",
            "Epoch 65/100\n",
            "60000/60000 [==============================] - 4s 60us/step - loss: 0.0947 - val_loss: 0.0950\n",
            "Epoch 66/100\n",
            "60000/60000 [==============================] - 4s 60us/step - loss: 0.0946 - val_loss: 0.0940\n",
            "Epoch 67/100\n",
            "60000/60000 [==============================] - 4s 60us/step - loss: 0.0946 - val_loss: 0.0944\n",
            "Epoch 68/100\n",
            "60000/60000 [==============================] - 4s 60us/step - loss: 0.0946 - val_loss: 0.0943\n",
            "Epoch 69/100\n",
            "60000/60000 [==============================] - 4s 60us/step - loss: 0.0945 - val_loss: 0.0948\n",
            "Epoch 70/100\n",
            "60000/60000 [==============================] - 4s 60us/step - loss: 0.0945 - val_loss: 0.0948\n",
            "Epoch 71/100\n",
            "60000/60000 [==============================] - 4s 59us/step - loss: 0.0945 - val_loss: 0.0941\n",
            "Epoch 72/100\n",
            "60000/60000 [==============================] - 4s 60us/step - loss: 0.0945 - val_loss: 0.0947\n",
            "Epoch 73/100\n",
            "60000/60000 [==============================] - 4s 59us/step - loss: 0.0945 - val_loss: 0.0946\n",
            "Epoch 74/100\n",
            "60000/60000 [==============================] - 4s 59us/step - loss: 0.0944 - val_loss: 0.0940\n",
            "Epoch 75/100\n",
            "60000/60000 [==============================] - 4s 60us/step - loss: 0.0945 - val_loss: 0.0946\n",
            "Epoch 76/100\n",
            "60000/60000 [==============================] - 4s 59us/step - loss: 0.0944 - val_loss: 0.0937\n",
            "Epoch 77/100\n",
            "60000/60000 [==============================] - 4s 60us/step - loss: 0.0944 - val_loss: 0.0945\n",
            "Epoch 78/100\n",
            "60000/60000 [==============================] - 4s 60us/step - loss: 0.0943 - val_loss: 0.0937\n",
            "Epoch 79/100\n",
            "60000/60000 [==============================] - 4s 60us/step - loss: 0.0943 - val_loss: 0.0942\n",
            "Epoch 80/100\n",
            "60000/60000 [==============================] - 4s 60us/step - loss: 0.0943 - val_loss: 0.0940\n",
            "Epoch 81/100\n",
            "60000/60000 [==============================] - 4s 59us/step - loss: 0.0942 - val_loss: 0.0939\n",
            "Epoch 82/100\n",
            "60000/60000 [==============================] - 4s 59us/step - loss: 0.0943 - val_loss: 0.0938\n",
            "Epoch 83/100\n",
            "60000/60000 [==============================] - 4s 60us/step - loss: 0.0942 - val_loss: 0.0938\n",
            "Epoch 84/100\n",
            "60000/60000 [==============================] - 4s 60us/step - loss: 0.0943 - val_loss: 0.0957\n",
            "Epoch 85/100\n",
            "60000/60000 [==============================] - 4s 59us/step - loss: 0.0942 - val_loss: 0.0938\n",
            "Epoch 86/100\n",
            "60000/60000 [==============================] - 4s 60us/step - loss: 0.0942 - val_loss: 0.0937\n",
            "Epoch 87/100\n",
            "60000/60000 [==============================] - 4s 60us/step - loss: 0.0942 - val_loss: 0.0936\n",
            "Epoch 88/100\n",
            "60000/60000 [==============================] - 4s 62us/step - loss: 0.0941 - val_loss: 0.0937\n",
            "Epoch 89/100\n",
            "60000/60000 [==============================] - 4s 62us/step - loss: 0.0942 - val_loss: 0.0936\n",
            "Epoch 90/100\n",
            "60000/60000 [==============================] - 4s 61us/step - loss: 0.0941 - val_loss: 0.0936\n",
            "Epoch 91/100\n",
            "60000/60000 [==============================] - 4s 60us/step - loss: 0.0941 - val_loss: 0.0938\n",
            "Epoch 92/100\n",
            "60000/60000 [==============================] - 4s 59us/step - loss: 0.0940 - val_loss: 0.0938\n",
            "Epoch 93/100\n",
            "60000/60000 [==============================] - 4s 60us/step - loss: 0.0941 - val_loss: 0.0936\n",
            "Epoch 94/100\n",
            "60000/60000 [==============================] - 4s 60us/step - loss: 0.0940 - val_loss: 0.0938\n",
            "Epoch 95/100\n",
            "60000/60000 [==============================] - 4s 59us/step - loss: 0.0940 - val_loss: 0.0936\n",
            "Epoch 96/100\n",
            "60000/60000 [==============================] - 4s 60us/step - loss: 0.0940 - val_loss: 0.0937\n",
            "Epoch 97/100\n",
            "60000/60000 [==============================] - 4s 60us/step - loss: 0.0940 - val_loss: 0.0937\n",
            "Epoch 98/100\n",
            "60000/60000 [==============================] - 4s 60us/step - loss: 0.0940 - val_loss: 0.0940\n",
            "Epoch 99/100\n",
            "60000/60000 [==============================] - 4s 59us/step - loss: 0.0940 - val_loss: 0.0939\n",
            "Epoch 100/100\n",
            "60000/60000 [==============================] - 4s 60us/step - loss: 0.0940 - val_loss: 0.0936\n"
          ],
          "name": "stdout"
        },
        {
          "output_type": "execute_result",
          "data": {
            "text/plain": [
              "<keras.callbacks.History at 0x7f49939d21d0>"
            ]
          },
          "metadata": {
            "tags": []
          },
          "execution_count": 4
        }
      ]
    },
    {
      "cell_type": "code",
      "metadata": {
        "id": "PhpqBH-iLmFi",
        "colab_type": "code",
        "colab": {}
      },
      "source": [
        "decoded_imgs = autoencoder.predict(x_test_noisy)"
      ],
      "execution_count": 0,
      "outputs": []
    },
    {
      "cell_type": "code",
      "metadata": {
        "id": "5F1VWq_7NIoJ",
        "colab_type": "code",
        "outputId": "8d2c6061-855f-4b0f-bd31-683d534759c4",
        "colab": {
          "base_uri": "https://localhost:8080/",
          "height": 271
        }
      },
      "source": [
        "# use Matplotlib (don't ask)\n",
        "import matplotlib.pyplot as plt\n",
        "\n",
        "n = 10  # how many digits we will display\n",
        "plt.figure(figsize=(20, 4))\n",
        "for i in range(n):\n",
        "    # display original\n",
        "    ax = plt.subplot(2, n, i + 1)\n",
        "    plt.imshow(x_test_noisy[i].reshape(28, 28))\n",
        "    plt.gray()\n",
        "    ax.get_xaxis().set_visible(False)\n",
        "    ax.get_yaxis().set_visible(False)\n",
        "\n",
        "    # display reconstruction\n",
        "    ax = plt.subplot(2, n, i + 1 + n)\n",
        "    plt.imshow(decoded_imgs[i].reshape(28, 28))\n",
        "    plt.gray()\n",
        "    ax.get_xaxis().set_visible(False)\n",
        "    ax.get_yaxis().set_visible(False)\n",
        "plt.show()"
      ],
      "execution_count": 0,
      "outputs": [
        {
          "output_type": "display_data",
          "data": {
            "image/png": "[encoded data removed]",
            "text/plain": [
              "<Figure size 1440x288 with 20 Axes>"
            ]
          },
          "metadata": {
            "tags": []
          }
        }
      ]
    },
    {
      "cell_type": "markdown",
      "metadata": {
        "id": "dZtvmThUNNOJ",
        "colab_type": "text"
      },
      "source": [
        "기존 이미지로 AutoEncoder를 생성하는 것보다 잡음을 포함시킨 이미지로 AutoEncoder를 생성하는 것이 성능이 뛰어난 모델을 만드는 데 하나의 방법이 될 수 있다."
      ]
    },
    {
      "cell_type": "markdown",
      "metadata": {
        "id": "8XOvcfT6vIRn",
        "colab_type": "text"
      },
      "source": [
        "* QT : user interface를 생성해주는 도구\n",
        "* pyinstaller : python을 통해 exe 파일 생성"
      ]
    }
  ]
}
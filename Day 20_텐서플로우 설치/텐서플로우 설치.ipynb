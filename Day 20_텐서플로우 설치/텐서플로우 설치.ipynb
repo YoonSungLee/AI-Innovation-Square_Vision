{
 "cells": [
  {
   "cell_type": "markdown",
   "metadata": {},
   "source": [
    "# 환경변수"
   ]
  },
  {
   "cell_type": "markdown",
   "metadata": {},
   "source": [
    "윈도우 10에서 python 환경변수(path) 설정\n",
    "* https://wxmin.tistory.com/121"
   ]
  },
  {
   "cell_type": "markdown",
   "metadata": {},
   "source": [
    "# 가상환경"
   ]
  },
  {
   "cell_type": "markdown",
   "metadata": {},
   "source": [
    "가상환경 사용하기<br>\n",
    "Windows에서 가상환경 만들기<br>\n",
    "패키지 목록 관리하기<br>\n",
    "가상환경별로 파이썬 버전 구분하기<br>\n",
    "리눅스와 macOS에서 가상환경 만들기<br>\n",
    "가상환경 폴더를 다른 곳으로 이동시켰다면?<br>\n",
    "아나콘다 가상환경 만들기<br>\n",
    "가상환경을 사용하는 IDLE 실행하기<br>\n",
    "* https://dojang.io/mod/page/view.php?id=2470"
   ]
  },
  {
   "cell_type": "markdown",
   "metadata": {},
   "source": [
    "# Jupyter Notebook 초기 경로 설정"
   ]
  },
  {
   "cell_type": "markdown",
   "metadata": {},
   "source": [
    "1. jupyter_notebook_config.py 실행\n",
    "2. 'directory'를 검색하여 원하는 초기 경로 설정('/'사용 주의)\n",
    "3. C:\\Users\\LYS\\.jupyter으로 파일 이동\n",
    "4. Jupyter Notebook 실행\n",
    "5. 취소 시 파일명을 바꾸거나 삭제"
   ]
  },
  {
   "cell_type": "markdown",
   "metadata": {},
   "source": [
    "# GPU 사용"
   ]
  },
  {
   "cell_type": "markdown",
   "metadata": {},
   "source": [
    "1. NDIVIA 드라이버 설치(GPU 사양에 맞는 드라이버 선택)\n",
    "2. CUDA 설치"
   ]
  }
 ],
 "metadata": {
  "kernelspec": {
   "display_name": "Python 3",
   "language": "python",
   "name": "python3"
  },
  "language_info": {
   "codemirror_mode": {
    "name": "ipython",
    "version": 3
   },
   "file_extension": ".py",
   "mimetype": "text/x-python",
   "name": "python",
   "nbconvert_exporter": "python",
   "pygments_lexer": "ipython3",
   "version": "3.7.6"
  }
 },
 "nbformat": 4,
 "nbformat_minor": 4
}

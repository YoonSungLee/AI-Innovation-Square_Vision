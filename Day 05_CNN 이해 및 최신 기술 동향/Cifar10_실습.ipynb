{
  "nbformat": 4,
  "nbformat_minor": 0,
  "metadata": {
    "colab": {
      "name": "Cifar10_실습.ipynb",
      "provenance": [],
      "collapsed_sections": [],
      "include_colab_link": true
    },
    "kernelspec": {
      "name": "python3",
      "display_name": "Python 3"
    },
    "accelerator": "GPU"
  },
  "cells": [
    {
      "cell_type": "markdown",
      "metadata": {
        "id": "view-in-github",
        "colab_type": "text"
      },
      "source": [
        "<a href=\"https://colab.research.google.com/github/YoonSungLee/AI-Innovation-Square_Vision/blob/master/Day%205_CNN%20%EC%9D%B4%ED%95%B4%20%EB%B0%8F%20%EC%B5%9C%EC%8B%A0%20%EA%B8%B0%EC%88%A0%20%EB%8F%99%ED%96%A5/Cifar10_%EC%8B%A4%EC%8A%B5.ipynb\" target=\"_parent\"><img src=\"https://colab.research.google.com/assets/colab-badge.svg\" alt=\"Open In Colab\"/></a>"
      ]
    },
    {
      "cell_type": "markdown",
      "metadata": {
        "id": "0Ts8xn2YKPJm",
        "colab_type": "text"
      },
      "source": [
        "VGG의 단점 : Bottleneck<br>\n",
        "<br>\n",
        "(None, 224, 224, 32)<br>\n",
        "(None, 112, 112, 32)<br>\n",
        "(None, 112, 112, 64)"
      ]
    },
    {
      "cell_type": "markdown",
      "metadata": {
        "id": "Zj7PiHHeKesN",
        "colab_type": "text"
      },
      "source": [
        "Bottleneck 해결책 : maxpooling 전에 feature의 수를 2배로 증가<br>\n",
        "<br>\n",
        "(None, 224, 224, 32)<br>\n",
        "(None, 224, 224, 64)<br>\n",
        "(None, 112, 112, 64)"
      ]
    },
    {
      "cell_type": "code",
      "metadata": {
        "id": "QHMtnYN4JbzR",
        "colab_type": "code",
        "outputId": "98d4f312-684e-439d-9abd-e8ddf2178d3a",
        "colab": {
          "base_uri": "https://localhost:8080/",
          "height": 81
        }
      },
      "source": [
        "from __future__ import print_function\n",
        "import keras\n",
        "from keras.datasets import cifar10\n",
        "from keras.preprocessing.image import ImageDataGenerator\n",
        "from keras.models import Sequential\n",
        "from keras.layers import Dense, Dropout, Activation, Flatten\n",
        "from keras.layers import Conv2D, MaxPooling2D, GlobalAveragePooling2D, BatchNormalization\n",
        "\n",
        "import os"
      ],
      "execution_count": 0,
      "outputs": [
        {
          "output_type": "stream",
          "text": [
            "Using TensorFlow backend.\n"
          ],
          "name": "stderr"
        },
        {
          "output_type": "display_data",
          "data": {
            "text/html": [
              "<p style=\"color: red;\">\n",
              "The default version of TensorFlow in Colab will soon switch to TensorFlow 2.x.<br>\n",
              "We recommend you <a href=\"https://www.tensorflow.org/guide/migrate\" target=\"_blank\">upgrade</a> now \n",
              "or ensure your notebook will continue to use TensorFlow 1.x via the <code>%tensorflow_version 1.x</code> magic:\n",
              "<a href=\"https://colab.research.google.com/notebooks/tensorflow_version.ipynb\" target=\"_blank\">more info</a>.</p>\n"
            ],
            "text/plain": [
              "<IPython.core.display.HTML object>"
            ]
          },
          "metadata": {
            "tags": []
          }
        }
      ]
    },
    {
      "cell_type": "code",
      "metadata": {
        "id": "xN76jTnaJku7",
        "colab_type": "code",
        "colab": {}
      },
      "source": [
        "batch_size = 16\n",
        "num_classes = 10\n",
        "epochs = 25"
      ],
      "execution_count": 0,
      "outputs": []
    },
    {
      "cell_type": "code",
      "metadata": {
        "id": "BuwjP0yeJlyu",
        "colab_type": "code",
        "outputId": "ee6f94c2-1809-4459-a730-f7775b4f2601",
        "colab": {
          "base_uri": "https://localhost:8080/",
          "height": 104
        }
      },
      "source": [
        "# The data, split between train and test sets:\n",
        "(x_train, y_train), (x_test, y_test) = cifar10.load_data()\n",
        "print('x_train shape:', x_train.shape)\n",
        "print(x_train.shape[0], 'train samples')\n",
        "print(x_test.shape[0], 'test samples')"
      ],
      "execution_count": 0,
      "outputs": [
        {
          "output_type": "stream",
          "text": [
            "Downloading data from https://www.cs.toronto.edu/~kriz/cifar-10-python.tar.gz\n",
            "170500096/170498071 [==============================] - 10s 0us/step\n",
            "x_train shape: (50000, 32, 32, 3)\n",
            "50000 train samples\n",
            "10000 test samples\n"
          ],
          "name": "stdout"
        }
      ]
    },
    {
      "cell_type": "code",
      "metadata": {
        "id": "ICtLv_uZJoXe",
        "colab_type": "code",
        "colab": {}
      },
      "source": [
        "y_train = keras.utils.to_categorical(y_train, num_classes)\n",
        "y_test = keras.utils.to_categorical(y_test, num_classes)"
      ],
      "execution_count": 0,
      "outputs": []
    },
    {
      "cell_type": "code",
      "metadata": {
        "id": "-rfn1qzqJ5dW",
        "colab_type": "code",
        "colab": {}
      },
      "source": [
        "# 정규화\n",
        "\n",
        "x_train = x_train.astype('float32')\n",
        "x_test = x_test.astype('float32')\n",
        "x_train /= 255\n",
        "x_test /= 255"
      ],
      "execution_count": 0,
      "outputs": []
    },
    {
      "cell_type": "markdown",
      "metadata": {
        "id": "iDFttU7cJvdh",
        "colab_type": "text"
      },
      "source": [
        "네트워크를 직접 설계해 보세요!"
      ]
    },
    {
      "cell_type": "code",
      "metadata": {
        "id": "bJRS-NhGPyG2",
        "colab_type": "code",
        "colab": {}
      },
      "source": [
        "# n_kernels을 설정하면 모델 설계 시 유용\n",
        "# BatchNormalization 설정\n",
        "# 모델이 깊어질 경우 dimension 주의\n",
        "# Flatten 대신 GlobalAveragePooling2D 사용 가능(모델이 깊을 경우)\n",
        "\n",
        "\n",
        "def create_model():\n",
        "    model = Sequential()\n",
        "    # N, 32, 32, 3\n",
        "    model.add(Conv2D(64, (3,3), input_shape=(32, 32, 3), activation='relu',\n",
        "                     kernel_initializer='he_normal'))\n",
        "    # N, 30, 30, 64\n",
        "    model.add(Conv2D(64, (3,3), activation='relu',\n",
        "                     kernel_initializer='he_normal'))\n",
        "    # N, 28, 28, 64\n",
        "    model.add(MaxPooling2D())\n",
        "    # N, 14, 14, 64\n",
        "    model.add(Conv2D(128, (3,3), activation='relu',\n",
        "                     kernel_initializer='he_normal'))\n",
        "    # N, 12, 12, 128\n",
        "    model.add(Conv2D(128, (3,3), activation='relu',\n",
        "                     kernel_initializer='he_normal'))\n",
        "    # N, 10, 10, 128\n",
        "    model.add(MaxPooling2D())\n",
        "    # N, 5, 5, 128\n",
        "    model.add(Flatten())\n",
        "    # N, 3200\n",
        "    model.add(Dense(10, activation='softmax', kernel_initializer='glorot_uniform'))\n",
        "    # N, 10\n",
        "    \n",
        "    return model"
      ],
      "execution_count": 0,
      "outputs": []
    },
    {
      "cell_type": "code",
      "metadata": {
        "id": "BryLvZkmSXJl",
        "colab_type": "code",
        "colab": {}
      },
      "source": [
        "model = create_model()"
      ],
      "execution_count": 0,
      "outputs": []
    },
    {
      "cell_type": "code",
      "metadata": {
        "id": "tTTlF8aFH4gR",
        "colab_type": "code",
        "outputId": "18335535-70f3-4d59-d86a-de223a740b7f",
        "colab": {
          "base_uri": "https://localhost:8080/",
          "height": 434
        }
      },
      "source": [
        "model.summary()"
      ],
      "execution_count": 0,
      "outputs": [
        {
          "output_type": "stream",
          "text": [
            "Model: \"sequential_14\"\n",
            "_________________________________________________________________\n",
            "Layer (type)                 Output Shape              Param #   \n",
            "=================================================================\n",
            "conv2d_60 (Conv2D)           (None, 30, 30, 64)        1792      \n",
            "_________________________________________________________________\n",
            "conv2d_61 (Conv2D)           (None, 28, 28, 64)        36928     \n",
            "_________________________________________________________________\n",
            "max_pooling2d_26 (MaxPooling (None, 14, 14, 64)        0         \n",
            "_________________________________________________________________\n",
            "conv2d_62 (Conv2D)           (None, 12, 12, 128)       73856     \n",
            "_________________________________________________________________\n",
            "conv2d_63 (Conv2D)           (None, 10, 10, 128)       147584    \n",
            "_________________________________________________________________\n",
            "max_pooling2d_27 (MaxPooling (None, 5, 5, 128)         0         \n",
            "_________________________________________________________________\n",
            "flatten_5 (Flatten)          (None, 3200)              0         \n",
            "_________________________________________________________________\n",
            "dense_5 (Dense)              (None, 10)                32010     \n",
            "=================================================================\n",
            "Total params: 292,170\n",
            "Trainable params: 292,170\n",
            "Non-trainable params: 0\n",
            "_________________________________________________________________\n"
          ],
          "name": "stdout"
        }
      ]
    },
    {
      "cell_type": "code",
      "metadata": {
        "id": "NT5sENY6KNrG",
        "colab_type": "code",
        "colab": {}
      },
      "source": [
        "opt = keras.optimizers.rmsprop(lr=0.0001, decay=1e-6)"
      ],
      "execution_count": 0,
      "outputs": []
    },
    {
      "cell_type": "code",
      "metadata": {
        "id": "Zd1E5FY4JqQG",
        "colab_type": "code",
        "outputId": "e7825c0f-3c1a-4144-bb97-cf8ded5cf11f",
        "colab": {
          "base_uri": "https://localhost:8080/",
          "height": 86
        }
      },
      "source": [
        "# Let's train the model using RMSprop\n",
        "model.compile(loss='categorical_crossentropy',\n",
        "              optimizer=opt,\n",
        "              metrics=['accuracy'])"
      ],
      "execution_count": 0,
      "outputs": [
        {
          "output_type": "stream",
          "text": [
            "WARNING:tensorflow:From /usr/local/lib/python3.6/dist-packages/keras/optimizers.py:793: The name tf.train.Optimizer is deprecated. Please use tf.compat.v1.train.Optimizer instead.\n",
            "\n",
            "WARNING:tensorflow:From /usr/local/lib/python3.6/dist-packages/keras/backend/tensorflow_backend.py:3576: The name tf.log is deprecated. Please use tf.math.log instead.\n",
            "\n"
          ],
          "name": "stdout"
        }
      ]
    },
    {
      "cell_type": "code",
      "metadata": {
        "id": "lkA0Pd6vJ_IO",
        "colab_type": "code",
        "outputId": "24d62b66-12b3-4422-d43a-10c0602c82e1",
        "colab": {
          "base_uri": "https://localhost:8080/",
          "height": 1000
        }
      },
      "source": [
        "trained_model = model.fit(x_train, y_train,\n",
        "          batch_size=batch_size,\n",
        "          epochs=epochs,\n",
        "          validation_data=(x_test, y_test),\n",
        "          shuffle=True)"
      ],
      "execution_count": 0,
      "outputs": [
        {
          "output_type": "stream",
          "text": [
            "WARNING:tensorflow:From /usr/local/lib/python3.6/dist-packages/tensorflow_core/python/ops/math_grad.py:1424: where (from tensorflow.python.ops.array_ops) is deprecated and will be removed in a future version.\n",
            "Instructions for updating:\n",
            "Use tf.where in 2.0, which has the same broadcast rule as np.where\n",
            "WARNING:tensorflow:From /usr/local/lib/python3.6/dist-packages/keras/backend/tensorflow_backend.py:1033: The name tf.assign_add is deprecated. Please use tf.compat.v1.assign_add instead.\n",
            "\n",
            "WARNING:tensorflow:From /usr/local/lib/python3.6/dist-packages/keras/backend/tensorflow_backend.py:1020: The name tf.assign is deprecated. Please use tf.compat.v1.assign instead.\n",
            "\n",
            "WARNING:tensorflow:From /usr/local/lib/python3.6/dist-packages/keras/backend/tensorflow_backend.py:3005: The name tf.Session is deprecated. Please use tf.compat.v1.Session instead.\n",
            "\n",
            "Train on 50000 samples, validate on 10000 samples\n",
            "Epoch 1/25\n",
            "WARNING:tensorflow:From /usr/local/lib/python3.6/dist-packages/keras/backend/tensorflow_backend.py:190: The name tf.get_default_session is deprecated. Please use tf.compat.v1.get_default_session instead.\n",
            "\n",
            "WARNING:tensorflow:From /usr/local/lib/python3.6/dist-packages/keras/backend/tensorflow_backend.py:197: The name tf.ConfigProto is deprecated. Please use tf.compat.v1.ConfigProto instead.\n",
            "\n",
            "WARNING:tensorflow:From /usr/local/lib/python3.6/dist-packages/keras/backend/tensorflow_backend.py:207: The name tf.global_variables is deprecated. Please use tf.compat.v1.global_variables instead.\n",
            "\n",
            "WARNING:tensorflow:From /usr/local/lib/python3.6/dist-packages/keras/backend/tensorflow_backend.py:216: The name tf.is_variable_initialized is deprecated. Please use tf.compat.v1.is_variable_initialized instead.\n",
            "\n",
            "WARNING:tensorflow:From /usr/local/lib/python3.6/dist-packages/keras/backend/tensorflow_backend.py:223: The name tf.variables_initializer is deprecated. Please use tf.compat.v1.variables_initializer instead.\n",
            "\n",
            "50000/50000 [==============================] - 31s 614us/step - loss: 1.5546 - acc: 0.4409 - val_loss: 1.3253 - val_acc: 0.5186\n",
            "Epoch 2/25\n",
            "50000/50000 [==============================] - 17s 337us/step - loss: 1.1871 - acc: 0.5843 - val_loss: 1.1040 - val_acc: 0.6140\n",
            "Epoch 3/25\n",
            "50000/50000 [==============================] - 16s 329us/step - loss: 1.0195 - acc: 0.6463 - val_loss: 0.9757 - val_acc: 0.6663\n",
            "Epoch 4/25\n",
            "50000/50000 [==============================] - 17s 331us/step - loss: 0.9089 - acc: 0.6880 - val_loss: 0.9224 - val_acc: 0.6819\n",
            "Epoch 5/25\n",
            "50000/50000 [==============================] - 17s 330us/step - loss: 0.8203 - acc: 0.7179 - val_loss: 0.9179 - val_acc: 0.6826\n",
            "Epoch 6/25\n",
            "50000/50000 [==============================] - 16s 328us/step - loss: 0.7532 - acc: 0.7433 - val_loss: 0.8248 - val_acc: 0.7190\n",
            "Epoch 7/25\n",
            "50000/50000 [==============================] - 17s 331us/step - loss: 0.6939 - acc: 0.7636 - val_loss: 0.8136 - val_acc: 0.7178\n",
            "Epoch 8/25\n",
            "50000/50000 [==============================] - 16s 327us/step - loss: 0.6414 - acc: 0.7802 - val_loss: 0.7843 - val_acc: 0.7337\n",
            "Epoch 9/25\n",
            "50000/50000 [==============================] - 17s 332us/step - loss: 0.5948 - acc: 0.7990 - val_loss: 0.7523 - val_acc: 0.7437\n",
            "Epoch 10/25\n",
            "50000/50000 [==============================] - 16s 325us/step - loss: 0.5534 - acc: 0.8117 - val_loss: 0.7523 - val_acc: 0.7459\n",
            "Epoch 11/25\n",
            "50000/50000 [==============================] - 16s 325us/step - loss: 0.5122 - acc: 0.8249 - val_loss: 0.7226 - val_acc: 0.7565\n",
            "Epoch 12/25\n",
            "50000/50000 [==============================] - 16s 330us/step - loss: 0.4777 - acc: 0.8366 - val_loss: 0.7252 - val_acc: 0.7622\n",
            "Epoch 13/25\n",
            "50000/50000 [==============================] - 16s 327us/step - loss: 0.4430 - acc: 0.8516 - val_loss: 0.7411 - val_acc: 0.7594\n",
            "Epoch 14/25\n",
            "50000/50000 [==============================] - 16s 324us/step - loss: 0.4088 - acc: 0.8621 - val_loss: 0.7360 - val_acc: 0.7656\n",
            "Epoch 15/25\n",
            "50000/50000 [==============================] - 16s 327us/step - loss: 0.3784 - acc: 0.8727 - val_loss: 0.7624 - val_acc: 0.7615\n",
            "Epoch 16/25\n",
            "50000/50000 [==============================] - 17s 331us/step - loss: 0.3489 - acc: 0.8826 - val_loss: 0.7856 - val_acc: 0.7622\n",
            "Epoch 17/25\n",
            "50000/50000 [==============================] - 16s 329us/step - loss: 0.3204 - acc: 0.8932 - val_loss: 0.7790 - val_acc: 0.7654\n",
            "Epoch 18/25\n",
            "50000/50000 [==============================] - 16s 327us/step - loss: 0.2937 - acc: 0.9029 - val_loss: 0.8397 - val_acc: 0.7563\n",
            "Epoch 19/25\n",
            "50000/50000 [==============================] - 16s 328us/step - loss: 0.2661 - acc: 0.9111 - val_loss: 0.8824 - val_acc: 0.7585\n",
            "Epoch 20/25\n",
            "50000/50000 [==============================] - 17s 337us/step - loss: 0.2444 - acc: 0.9194 - val_loss: 0.8283 - val_acc: 0.7688\n",
            "Epoch 21/25\n",
            "50000/50000 [==============================] - 16s 329us/step - loss: 0.2202 - acc: 0.9274 - val_loss: 0.8316 - val_acc: 0.7706\n",
            "Epoch 22/25\n",
            "50000/50000 [==============================] - 17s 330us/step - loss: 0.1983 - acc: 0.9351 - val_loss: 0.8799 - val_acc: 0.7698\n",
            "Epoch 23/25\n",
            "50000/50000 [==============================] - 16s 326us/step - loss: 0.1776 - acc: 0.9424 - val_loss: 0.9524 - val_acc: 0.7626\n",
            "Epoch 24/25\n",
            "50000/50000 [==============================] - 16s 329us/step - loss: 0.1599 - acc: 0.9481 - val_loss: 0.9458 - val_acc: 0.7618\n",
            "Epoch 25/25\n",
            "50000/50000 [==============================] - 16s 326us/step - loss: 0.1435 - acc: 0.9549 - val_loss: 0.9507 - val_acc: 0.7714\n"
          ],
          "name": "stdout"
        }
      ]
    },
    {
      "cell_type": "code",
      "metadata": {
        "id": "KAnM6dDEKPMu",
        "colab_type": "code",
        "colab": {}
      },
      "source": [
        "epochs_range = range(25)\n",
        "validation_accuracy = trained_model.history['val_acc']\n",
        "training_accuracy = trained_model.history['acc']"
      ],
      "execution_count": 0,
      "outputs": []
    },
    {
      "cell_type": "code",
      "metadata": {
        "id": "AUEiUJm3KUbR",
        "colab_type": "code",
        "outputId": "9b52cca8-272a-4753-a71f-508428e894a9",
        "colab": {
          "base_uri": "https://localhost:8080/",
          "height": 279
        }
      },
      "source": [
        "import matplotlib.pyplot as plt\n",
        "\n",
        "plt.plot(epochs_range, training_accuracy, 'b+', label='training accuracy')\n",
        "# ‘bo’는 파란색 점을 의미합니다\n",
        "plt.plot(epochs_range, validation_accuracy, 'bo', label='validation accuracy')\n",
        "plt.xlabel('Epochs')\n",
        "plt.ylabel('Validation accuracy')\n",
        "plt.legend()\n",
        "\n",
        "plt.show()"
      ],
      "execution_count": 0,
      "outputs": [
        {
          "output_type": "display_data",
          "data": {
            "image/png": "[encoded data removed]",
            "text/plain": [
              "<Figure size 432x288 with 1 Axes>"
            ]
          },
          "metadata": {
            "tags": []
          }
        }
      ]
    },
    {
      "cell_type": "code",
      "metadata": {
        "id": "aU9keG2bKY9j",
        "colab_type": "code",
        "outputId": "2025eaa4-5e8e-4b16-8607-f761a67ed45e",
        "colab": {
          "base_uri": "https://localhost:8080/",
          "height": 69
        }
      },
      "source": [
        "scores = model.evaluate(x_test, y_test, verbose=1)\n",
        "print('Test loss:', scores[0])\n",
        "print('Test accuracy:', scores[1])"
      ],
      "execution_count": 0,
      "outputs": [
        {
          "output_type": "stream",
          "text": [
            "10000/10000 [==============================] - 1s 89us/step\n",
            "Test loss: 0.9507133054256439\n",
            "Test accuracy: 0.7714\n"
          ],
          "name": "stdout"
        }
      ]
    },
    {
      "cell_type": "markdown",
      "metadata": {
        "id": "Ute631LApFtp",
        "colab_type": "text"
      },
      "source": [
        "# Kaggle : intel image classification tutorial feedback"
      ]
    },
    {
      "cell_type": "markdown",
      "metadata": {
        "id": "1U2Ff-QQpx2Y",
        "colab_type": "text"
      },
      "source": [
        "* activation function = 'relu' 사용 시, kernel_initialzer = he_normal 사용\n",
        "* MaxPooling2D의 사이즈는 2 by 2\n",
        "* Conv2D filter 사이즈는 2의 지수\n",
        "* Conv2D filter 사이즈를 변수를 통해 간편하게 설정\n",
        "* 마지막 Dense layer 각각 Dropout\n",
        "* BatchNormalization\n",
        "* Image Classification Problem : padding='valid'"
      ]
    }
  ]
}
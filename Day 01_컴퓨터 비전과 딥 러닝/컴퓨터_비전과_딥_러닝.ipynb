{
  "nbformat": 4,
  "nbformat_minor": 0,
  "metadata": {
    "colab": {
      "name": "컴퓨터 비전과 딥 러닝.ipynb",
      "provenance": [],
      "collapsed_sections": [],
      "authorship_tag": "ABX9TyMEQsG40m68BHgHcWxhmr6e",
      "include_colab_link": true
    },
    "kernelspec": {
      "name": "python3",
      "display_name": "Python 3"
    }
  },
  "cells": [
    {
      "cell_type": "markdown",
      "metadata": {
        "id": "view-in-github",
        "colab_type": "text"
      },
      "source": [
        "<a href=\"https://colab.research.google.com/github/YoonSungLee/AI-Innovation-Square_Vision/blob/master/Day%201_%EC%BB%B4%ED%93%A8%ED%84%B0%20%EB%B9%84%EC%A0%84%EA%B3%BC%20%EB%94%A5%20%EB%9F%AC%EB%8B%9D/%EC%BB%B4%ED%93%A8%ED%84%B0_%EB%B9%84%EC%A0%84%EA%B3%BC_%EB%94%A5_%EB%9F%AC%EB%8B%9D.ipynb\" target=\"_parent\"><img src=\"https://colab.research.google.com/assets/colab-badge.svg\" alt=\"Open In Colab\"/></a>"
      ]
    },
    {
      "cell_type": "code",
      "metadata": {
        "id": "C9k1zZ7zyYWQ",
        "colab_type": "code",
        "outputId": "38c5275e-fcf4-44d2-fef0-0da2056ee3d3",
        "colab": {
          "base_uri": "https://localhost:8080/",
          "height": 81
        }
      },
      "source": [
        "import tensorflow as tf"
      ],
      "execution_count": 0,
      "outputs": [
        {
          "output_type": "display_data",
          "data": {
            "text/html": [
              "<p style=\"color: red;\">\n",
              "The default version of TensorFlow in Colab will soon switch to TensorFlow 2.x.<br>\n",
              "We recommend you <a href=\"https://www.tensorflow.org/guide/migrate\" target=\"_blank\">upgrade</a> now \n",
              "or ensure your notebook will continue to use TensorFlow 1.x via the <code>%tensorflow_version 1.x</code> magic:\n",
              "<a href=\"https://colab.research.google.com/notebooks/tensorflow_version.ipynb\" target=\"_blank\">more info</a>.</p>\n"
            ],
            "text/plain": [
              "<IPython.core.display.HTML object>"
            ]
          },
          "metadata": {
            "tags": []
          }
        }
      ]
    },
    {
      "cell_type": "code",
      "metadata": {
        "id": "YJ99AUvPyiCB",
        "colab_type": "code",
        "outputId": "bb760b78-b292-45a9-a13e-f2db73e8c7d9",
        "colab": {
          "base_uri": "https://localhost:8080/",
          "height": 52
        }
      },
      "source": [
        "# 그래프 생성\n",
        "a = tf.constant(3.0)\n",
        "b = tf.constant(4.0)\n",
        "c = tf.constant(5.0)\n",
        "d = a * b + c\n",
        "print (d)\n",
        "\n",
        "# 그래프 실행\n",
        "sess = tf.Session()\n",
        "result = sess.run(d)\n",
        "print (result)"
      ],
      "execution_count": 0,
      "outputs": [
        {
          "output_type": "stream",
          "text": [
            "Tensor(\"add_1:0\", shape=(), dtype=float32)\n",
            "17.0\n"
          ],
          "name": "stdout"
        }
      ]
    },
    {
      "cell_type": "code",
      "metadata": {
        "id": "R1VW8n56yz57",
        "colab_type": "code",
        "colab": {}
      },
      "source": [
        "W = tf.Variable(tf.random_normal(shape=[1], name='w'))\n",
        "b = tf.Variable(tf.random_normal(shape=[1], name='b'))\n",
        "x = tf.placeholder(tf.float32)\n",
        "\n",
        "pred = W*x + b"
      ],
      "execution_count": 0,
      "outputs": []
    },
    {
      "cell_type": "code",
      "metadata": {
        "id": "A972uyfq2JZy",
        "colab_type": "code",
        "colab": {}
      },
      "source": [
        "y = tf.placeholder(tf.float32)\n",
        "\n",
        "loss = tf.reduce_mean(tf.square(pred - y)) # reduce : 평균을 내기 위해 차원을 축소"
      ],
      "execution_count": 0,
      "outputs": []
    },
    {
      "cell_type": "code",
      "metadata": {
        "id": "2QqIxTuw26SY",
        "colab_type": "code",
        "colab": {}
      },
      "source": [
        "optimizer = tf.train.GradientDescentOptimizer(0.01)\n",
        "\n",
        "train_step = optimizer.minimize(loss)"
      ],
      "execution_count": 0,
      "outputs": []
    },
    {
      "cell_type": "code",
      "metadata": {
        "id": "nl4r5-zU3a52",
        "colab_type": "code",
        "colab": {}
      },
      "source": [
        "# y = 2x + 1\n",
        "x_train = [1,2,3,4]\n",
        "y_train = [3,5,7,9]"
      ],
      "execution_count": 0,
      "outputs": []
    },
    {
      "cell_type": "code",
      "metadata": {
        "id": "XMI6gmLU4IIL",
        "colab_type": "code",
        "colab": {}
      },
      "source": [
        "sess = tf.Session()\n",
        "result = sess.run(tf.global_variables_initializer()) # 생성된 모든 파라미터 초기화 : w, b"
      ],
      "execution_count": 0,
      "outputs": []
    },
    {
      "cell_type": "code",
      "metadata": {
        "id": "AbaVdQ3B4SXS",
        "colab_type": "code",
        "colab": {}
      },
      "source": [
        "for i in range(1000):\n",
        "    sess.run(train_step, feed_dict={x: x_train, y: y_train})"
      ],
      "execution_count": 0,
      "outputs": []
    },
    {
      "cell_type": "code",
      "metadata": {
        "id": "fMhvJNOG43he",
        "colab_type": "code",
        "outputId": "1a69365f-309c-4959-cda0-78838793527c",
        "colab": {
          "base_uri": "https://localhost:8080/",
          "height": 34
        }
      },
      "source": [
        "x_test = [3, 5, 5, 6]\n",
        "print (sess.run(pred, feed_dict={x: x_test}))"
      ],
      "execution_count": 0,
      "outputs": [
        {
          "output_type": "stream",
          "text": [
            "[ 7.001552 11.053428 11.053428 13.079365]\n"
          ],
          "name": "stdout"
        }
      ]
    }
  ]
}